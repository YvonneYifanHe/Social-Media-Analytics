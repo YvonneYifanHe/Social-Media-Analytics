{
 "cells": [
  {
   "cell_type": "code",
   "execution_count": 1,
   "id": "c29c2573",
   "metadata": {},
   "outputs": [],
   "source": [
    "import numpy as np\n",
    "import pandas as pd\n"
   ]
  },
  {
   "cell_type": "code",
   "execution_count": 2,
   "id": "c753d419",
   "metadata": {},
   "outputs": [
    {
     "data": {
      "text/html": [
       "<div>\n",
       "<style scoped>\n",
       "    .dataframe tbody tr th:only-of-type {\n",
       "        vertical-align: middle;\n",
       "    }\n",
       "\n",
       "    .dataframe tbody tr th {\n",
       "        vertical-align: top;\n",
       "    }\n",
       "\n",
       "    .dataframe thead th {\n",
       "        text-align: right;\n",
       "    }\n",
       "</style>\n",
       "<table border=\"1\" class=\"dataframe\">\n",
       "  <thead>\n",
       "    <tr style=\"text-align: right;\">\n",
       "      <th></th>\n",
       "      <th>Unnamed: 0</th>\n",
       "      <th>reviewerID</th>\n",
       "      <th>asin</th>\n",
       "      <th>helpful</th>\n",
       "      <th>reviewText</th>\n",
       "      <th>overall</th>\n",
       "      <th>summary</th>\n",
       "      <th>unixReviewTime</th>\n",
       "      <th>reviewTime</th>\n",
       "    </tr>\n",
       "  </thead>\n",
       "  <tbody>\n",
       "    <tr>\n",
       "      <th>0</th>\n",
       "      <td>0</td>\n",
       "      <td>A14CK12J7C7JRK</td>\n",
       "      <td>1223000893</td>\n",
       "      <td>[0, 0]</td>\n",
       "      <td>I purchased the Trilogy with hoping my two cat...</td>\n",
       "      <td>3.0</td>\n",
       "      <td>Nice Distraction for my cats for about 15 minutes</td>\n",
       "      <td>1294790400</td>\n",
       "      <td>01 12, 2011</td>\n",
       "    </tr>\n",
       "    <tr>\n",
       "      <th>1</th>\n",
       "      <td>1</td>\n",
       "      <td>A39QHP5WLON5HV</td>\n",
       "      <td>1223000893</td>\n",
       "      <td>[0, 0]</td>\n",
       "      <td>There are usually one or more of my cats watch...</td>\n",
       "      <td>5.0</td>\n",
       "      <td>Entertaining for my cats</td>\n",
       "      <td>1379116800</td>\n",
       "      <td>09 14, 2013</td>\n",
       "    </tr>\n",
       "    <tr>\n",
       "      <th>2</th>\n",
       "      <td>2</td>\n",
       "      <td>A2CR37UY3VR7BN</td>\n",
       "      <td>1223000893</td>\n",
       "      <td>[0, 0]</td>\n",
       "      <td>I bought the triliogy and have tested out all ...</td>\n",
       "      <td>4.0</td>\n",
       "      <td>Entertaining</td>\n",
       "      <td>1355875200</td>\n",
       "      <td>12 19, 2012</td>\n",
       "    </tr>\n",
       "    <tr>\n",
       "      <th>3</th>\n",
       "      <td>3</td>\n",
       "      <td>A2A4COGL9VW2HY</td>\n",
       "      <td>1223000893</td>\n",
       "      <td>[2, 2]</td>\n",
       "      <td>My female kitty could care less about these vi...</td>\n",
       "      <td>4.0</td>\n",
       "      <td>Happy to have them</td>\n",
       "      <td>1305158400</td>\n",
       "      <td>05 12, 2011</td>\n",
       "    </tr>\n",
       "    <tr>\n",
       "      <th>4</th>\n",
       "      <td>4</td>\n",
       "      <td>A2UBQA85NIGLHA</td>\n",
       "      <td>1223000893</td>\n",
       "      <td>[6, 7]</td>\n",
       "      <td>If I had gotten just volume two, I would have ...</td>\n",
       "      <td>3.0</td>\n",
       "      <td>You really only need vol 2</td>\n",
       "      <td>1330905600</td>\n",
       "      <td>03 5, 2012</td>\n",
       "    </tr>\n",
       "    <tr>\n",
       "      <th>...</th>\n",
       "      <td>...</td>\n",
       "      <td>...</td>\n",
       "      <td>...</td>\n",
       "      <td>...</td>\n",
       "      <td>...</td>\n",
       "      <td>...</td>\n",
       "      <td>...</td>\n",
       "      <td>...</td>\n",
       "      <td>...</td>\n",
       "    </tr>\n",
       "    <tr>\n",
       "      <th>157831</th>\n",
       "      <td>157831</td>\n",
       "      <td>A136YD08SCJ2LV</td>\n",
       "      <td>B00KMHKOZC</td>\n",
       "      <td>[0, 0]</td>\n",
       "      <td>The Pet Magasin Retractable Dog Leash is the b...</td>\n",
       "      <td>5.0</td>\n",
       "      <td>Perfection</td>\n",
       "      <td>1405296000</td>\n",
       "      <td>07 14, 2014</td>\n",
       "    </tr>\n",
       "    <tr>\n",
       "      <th>157832</th>\n",
       "      <td>157832</td>\n",
       "      <td>A2YKWYC3WQJX5J</td>\n",
       "      <td>B00KMHKOZC</td>\n",
       "      <td>[1, 1]</td>\n",
       "      <td>I'm not the biggest fan of retractable leashes...</td>\n",
       "      <td>5.0</td>\n",
       "      <td>Nice solid feel, my little boy is thrilled!</td>\n",
       "      <td>1405296000</td>\n",
       "      <td>07 14, 2014</td>\n",
       "    </tr>\n",
       "    <tr>\n",
       "      <th>157833</th>\n",
       "      <td>157833</td>\n",
       "      <td>A2K0D19N83G6U2</td>\n",
       "      <td>B00KMHKOZC</td>\n",
       "      <td>[0, 0]</td>\n",
       "      <td>I was provided a leash for my unbiased review....</td>\n",
       "      <td>4.0</td>\n",
       "      <td>Good leash for small non-darty pets</td>\n",
       "      <td>1405987200</td>\n",
       "      <td>07 22, 2014</td>\n",
       "    </tr>\n",
       "    <tr>\n",
       "      <th>157834</th>\n",
       "      <td>157834</td>\n",
       "      <td>A3A4ZAIBQWKOZS</td>\n",
       "      <td>B00KMHKOZC</td>\n",
       "      <td>[1, 1]</td>\n",
       "      <td>This is a well designed leash that offers the ...</td>\n",
       "      <td>5.0</td>\n",
       "      <td>Quality build, smooth retraction, great leash</td>\n",
       "      <td>1405641600</td>\n",
       "      <td>07 18, 2014</td>\n",
       "    </tr>\n",
       "    <tr>\n",
       "      <th>157835</th>\n",
       "      <td>157835</td>\n",
       "      <td>A1ITRGMT80D5TK</td>\n",
       "      <td>B00KMHKOZC</td>\n",
       "      <td>[0, 0]</td>\n",
       "      <td>This leash is stated to be good for dogs up to...</td>\n",
       "      <td>4.0</td>\n",
       "      <td>Nice Leash for 20+ Pounds, Occasional Problems...</td>\n",
       "      <td>1405296000</td>\n",
       "      <td>07 14, 2014</td>\n",
       "    </tr>\n",
       "  </tbody>\n",
       "</table>\n",
       "<p>157836 rows × 9 columns</p>\n",
       "</div>"
      ],
      "text/plain": [
       "        Unnamed: 0      reviewerID        asin helpful  \\\n",
       "0                0  A14CK12J7C7JRK  1223000893  [0, 0]   \n",
       "1                1  A39QHP5WLON5HV  1223000893  [0, 0]   \n",
       "2                2  A2CR37UY3VR7BN  1223000893  [0, 0]   \n",
       "3                3  A2A4COGL9VW2HY  1223000893  [2, 2]   \n",
       "4                4  A2UBQA85NIGLHA  1223000893  [6, 7]   \n",
       "...            ...             ...         ...     ...   \n",
       "157831      157831  A136YD08SCJ2LV  B00KMHKOZC  [0, 0]   \n",
       "157832      157832  A2YKWYC3WQJX5J  B00KMHKOZC  [1, 1]   \n",
       "157833      157833  A2K0D19N83G6U2  B00KMHKOZC  [0, 0]   \n",
       "157834      157834  A3A4ZAIBQWKOZS  B00KMHKOZC  [1, 1]   \n",
       "157835      157835  A1ITRGMT80D5TK  B00KMHKOZC  [0, 0]   \n",
       "\n",
       "                                               reviewText  overall  \\\n",
       "0       I purchased the Trilogy with hoping my two cat...      3.0   \n",
       "1       There are usually one or more of my cats watch...      5.0   \n",
       "2       I bought the triliogy and have tested out all ...      4.0   \n",
       "3       My female kitty could care less about these vi...      4.0   \n",
       "4       If I had gotten just volume two, I would have ...      3.0   \n",
       "...                                                   ...      ...   \n",
       "157831  The Pet Magasin Retractable Dog Leash is the b...      5.0   \n",
       "157832  I'm not the biggest fan of retractable leashes...      5.0   \n",
       "157833  I was provided a leash for my unbiased review....      4.0   \n",
       "157834  This is a well designed leash that offers the ...      5.0   \n",
       "157835  This leash is stated to be good for dogs up to...      4.0   \n",
       "\n",
       "                                                  summary  unixReviewTime  \\\n",
       "0       Nice Distraction for my cats for about 15 minutes      1294790400   \n",
       "1                                Entertaining for my cats      1379116800   \n",
       "2                                            Entertaining      1355875200   \n",
       "3                                      Happy to have them      1305158400   \n",
       "4                              You really only need vol 2      1330905600   \n",
       "...                                                   ...             ...   \n",
       "157831                                         Perfection      1405296000   \n",
       "157832        Nice solid feel, my little boy is thrilled!      1405296000   \n",
       "157833                Good leash for small non-darty pets      1405987200   \n",
       "157834      Quality build, smooth retraction, great leash      1405641600   \n",
       "157835  Nice Leash for 20+ Pounds, Occasional Problems...      1405296000   \n",
       "\n",
       "         reviewTime  \n",
       "0       01 12, 2011  \n",
       "1       09 14, 2013  \n",
       "2       12 19, 2012  \n",
       "3       05 12, 2011  \n",
       "4        03 5, 2012  \n",
       "...             ...  \n",
       "157831  07 14, 2014  \n",
       "157832  07 14, 2014  \n",
       "157833  07 22, 2014  \n",
       "157834  07 18, 2014  \n",
       "157835  07 14, 2014  \n",
       "\n",
       "[157836 rows x 9 columns]"
      ]
     },
     "execution_count": 2,
     "metadata": {},
     "output_type": "execute_result"
    }
   ],
   "source": [
    "df= pd.read_csv(\"data.csv\")\n",
    "\n",
    "df"
   ]
  },
  {
   "cell_type": "code",
   "execution_count": 3,
   "id": "1a0df8e4",
   "metadata": {},
   "outputs": [],
   "source": [
    "import re\n",
    "from sklearn import feature_extraction \n",
    "stop_words = feature_extraction.text.ENGLISH_STOP_WORDS\n",
    "from nltk.stem import PorterStemmer\n",
    "from nltk.stem import WordNetLemmatizer\n",
    "\n",
    "def preprocess(text):\n",
    "  text = text.lower() #lowercase\n",
    "  text = re.sub(r'[^\\w\\s]', '', text) #remove punctuations\n",
    "  text = re.sub(r'\\d+', '', text) #remove numbers\n",
    "  text = \" \".join(text.split()) #stripWhitespace\n",
    "  text = text.split()\n",
    "  text = [x for x in text if x not in stop_words] #remove stopwords\n",
    "  text = \" \".join(text)\n",
    "  return(text)"
   ]
  },
  {
   "cell_type": "code",
   "execution_count": 4,
   "id": "243687fb",
   "metadata": {},
   "outputs": [],
   "source": [
    "df[\"review_processed\"] = df[\"reviewText\"].apply(lambda x:preprocess(str(x)))\n",
    "df[\"review_processed\"]=df[\"review_processed\"].apply(lambda x:x.split())"
   ]
  },
  {
   "cell_type": "code",
   "execution_count": 5,
   "id": "3e8957e4",
   "metadata": {},
   "outputs": [
    {
     "data": {
      "text/plain": [
       "[4,\n",
       " 6,\n",
       " 7,\n",
       " 8,\n",
       " 10,\n",
       " 11,\n",
       " 13,\n",
       " 15,\n",
       " 16,\n",
       " 17,\n",
       " 19,\n",
       " 20,\n",
       " 21,\n",
       " 27,\n",
       " 28,\n",
       " 29,\n",
       " 31,\n",
       " 36,\n",
       " 40,\n",
       " 57,\n",
       " 90,\n",
       " 93,\n",
       " 146,\n",
       " 148,\n",
       " 149,\n",
       " 150,\n",
       " 151,\n",
       " 153,\n",
       " 154,\n",
       " 155,\n",
       " 156,\n",
       " 157,\n",
       " 158,\n",
       " 159,\n",
       " 160,\n",
       " 161,\n",
       " 162,\n",
       " 163,\n",
       " 164,\n",
       " 165,\n",
       " 167,\n",
       " 168,\n",
       " 169,\n",
       " 170,\n",
       " 179,\n",
       " 180,\n",
       " 182,\n",
       " 183,\n",
       " 184,\n",
       " 185,\n",
       " 186,\n",
       " 188,\n",
       " 189,\n",
       " 190,\n",
       " 191,\n",
       " 192,\n",
       " 193,\n",
       " 195,\n",
       " 196,\n",
       " 197,\n",
       " 200,\n",
       " 201,\n",
       " 202,\n",
       " 203,\n",
       " 204,\n",
       " 205,\n",
       " 207,\n",
       " 208,\n",
       " 209,\n",
       " 210,\n",
       " 211,\n",
       " 212,\n",
       " 213,\n",
       " 214,\n",
       " 215,\n",
       " 217,\n",
       " 219,\n",
       " 221,\n",
       " 222,\n",
       " 223,\n",
       " 224,\n",
       " 225,\n",
       " 226,\n",
       " 227,\n",
       " 228,\n",
       " 229,\n",
       " 231,\n",
       " 232,\n",
       " 233,\n",
       " 234,\n",
       " 235,\n",
       " 236,\n",
       " 237,\n",
       " 238,\n",
       " 239,\n",
       " 240,\n",
       " 242,\n",
       " 243,\n",
       " 244,\n",
       " 245,\n",
       " 246,\n",
       " 247,\n",
       " 248,\n",
       " 249,\n",
       " 250,\n",
       " 251,\n",
       " 253,\n",
       " 254,\n",
       " 255,\n",
       " 256,\n",
       " 257,\n",
       " 258,\n",
       " 259,\n",
       " 260,\n",
       " 261,\n",
       " 262,\n",
       " 263,\n",
       " 265,\n",
       " 266,\n",
       " 267,\n",
       " 272,\n",
       " 273,\n",
       " 274,\n",
       " 275,\n",
       " 276,\n",
       " 277,\n",
       " 278,\n",
       " 279,\n",
       " 280,\n",
       " 281,\n",
       " 282,\n",
       " 283,\n",
       " 284,\n",
       " 285,\n",
       " 287,\n",
       " 288,\n",
       " 290,\n",
       " 291,\n",
       " 292,\n",
       " 293,\n",
       " 294,\n",
       " 295,\n",
       " 296,\n",
       " 297,\n",
       " 298,\n",
       " 299,\n",
       " 300,\n",
       " 301,\n",
       " 302,\n",
       " 303,\n",
       " 304,\n",
       " 305,\n",
       " 306,\n",
       " 307,\n",
       " 309,\n",
       " 310,\n",
       " 311,\n",
       " 312,\n",
       " 313,\n",
       " 314,\n",
       " 315,\n",
       " 316,\n",
       " 318,\n",
       " 320,\n",
       " 321,\n",
       " 322,\n",
       " 323,\n",
       " 324,\n",
       " 326,\n",
       " 327,\n",
       " 328,\n",
       " 329,\n",
       " 332,\n",
       " 333,\n",
       " 335,\n",
       " 338,\n",
       " 339,\n",
       " 340,\n",
       " 341,\n",
       " 342,\n",
       " 343,\n",
       " 345,\n",
       " 346,\n",
       " 347,\n",
       " 350,\n",
       " 351,\n",
       " 352,\n",
       " 353,\n",
       " 354,\n",
       " 355,\n",
       " 357,\n",
       " 358,\n",
       " 359,\n",
       " 360,\n",
       " 361,\n",
       " 362,\n",
       " 363,\n",
       " 364,\n",
       " 365,\n",
       " 366,\n",
       " 368,\n",
       " 369,\n",
       " 371,\n",
       " 373,\n",
       " 374,\n",
       " 375,\n",
       " 377,\n",
       " 379,\n",
       " 384,\n",
       " 385,\n",
       " 386,\n",
       " 387,\n",
       " 388,\n",
       " 389,\n",
       " 390,\n",
       " 394,\n",
       " 395,\n",
       " 399,\n",
       " 401,\n",
       " 402,\n",
       " 404,\n",
       " 405,\n",
       " 406,\n",
       " 407,\n",
       " 408,\n",
       " 409,\n",
       " 410,\n",
       " 411,\n",
       " 412,\n",
       " 413,\n",
       " 415,\n",
       " 418,\n",
       " 419,\n",
       " 420,\n",
       " 421,\n",
       " 423,\n",
       " 425,\n",
       " 427,\n",
       " 428,\n",
       " 450,\n",
       " 459,\n",
       " 472,\n",
       " 474,\n",
       " 476,\n",
       " 477,\n",
       " 478,\n",
       " 480,\n",
       " 481,\n",
       " 483,\n",
       " 484,\n",
       " 485,\n",
       " 487,\n",
       " 488,\n",
       " 489,\n",
       " 490,\n",
       " 493,\n",
       " 494,\n",
       " 495,\n",
       " 497,\n",
       " 498,\n",
       " 499,\n",
       " 500,\n",
       " 502,\n",
       " 503,\n",
       " 505,\n",
       " 507,\n",
       " 508,\n",
       " 509,\n",
       " 510,\n",
       " 511,\n",
       " 512,\n",
       " 516,\n",
       " 517,\n",
       " 519,\n",
       " 520,\n",
       " 530,\n",
       " 532,\n",
       " 533,\n",
       " 535,\n",
       " 536,\n",
       " 537,\n",
       " 538,\n",
       " 544,\n",
       " 547,\n",
       " 552,\n",
       " 556,\n",
       " 559,\n",
       " 560,\n",
       " 561,\n",
       " 562,\n",
       " 563,\n",
       " 565,\n",
       " 566,\n",
       " 567,\n",
       " 568,\n",
       " 570,\n",
       " 571,\n",
       " 572,\n",
       " 574,\n",
       " 575,\n",
       " 576,\n",
       " 578,\n",
       " 580,\n",
       " 582,\n",
       " 583,\n",
       " 584,\n",
       " 585,\n",
       " 586,\n",
       " 589,\n",
       " 590,\n",
       " 591,\n",
       " 593,\n",
       " 595,\n",
       " 596,\n",
       " 600,\n",
       " 601,\n",
       " 603,\n",
       " 604,\n",
       " 605,\n",
       " 607,\n",
       " 608,\n",
       " 609,\n",
       " 610,\n",
       " 611,\n",
       " 612,\n",
       " 614,\n",
       " 616,\n",
       " 619,\n",
       " 620,\n",
       " 621,\n",
       " 623,\n",
       " 624,\n",
       " 625,\n",
       " 626,\n",
       " 627,\n",
       " 628,\n",
       " 629,\n",
       " 630,\n",
       " 631,\n",
       " 632,\n",
       " 633,\n",
       " 635,\n",
       " 638,\n",
       " 642,\n",
       " 643,\n",
       " 644,\n",
       " 646,\n",
       " 649,\n",
       " 650,\n",
       " 651,\n",
       " 654,\n",
       " 656,\n",
       " 657,\n",
       " 659,\n",
       " 660,\n",
       " 661,\n",
       " 662,\n",
       " 663,\n",
       " 664,\n",
       " 665,\n",
       " 666,\n",
       " 667,\n",
       " 668,\n",
       " 669,\n",
       " 671,\n",
       " 672,\n",
       " 673,\n",
       " 674,\n",
       " 675,\n",
       " 676,\n",
       " 679,\n",
       " 681,\n",
       " 683,\n",
       " 684,\n",
       " 685,\n",
       " 686,\n",
       " 687,\n",
       " 688,\n",
       " 689,\n",
       " 690,\n",
       " 693,\n",
       " 696,\n",
       " 697,\n",
       " 698,\n",
       " 701,\n",
       " 702,\n",
       " 703,\n",
       " 704,\n",
       " 705,\n",
       " 707,\n",
       " 708,\n",
       " 709,\n",
       " 710,\n",
       " 711,\n",
       " 712,\n",
       " 713,\n",
       " 715,\n",
       " 719,\n",
       " 720,\n",
       " 722,\n",
       " 724,\n",
       " 726,\n",
       " 727,\n",
       " 728,\n",
       " 729,\n",
       " 730,\n",
       " 731,\n",
       " 732,\n",
       " 733,\n",
       " 734,\n",
       " 735,\n",
       " 736,\n",
       " 737,\n",
       " 740,\n",
       " 741,\n",
       " 742,\n",
       " 745,\n",
       " 746,\n",
       " 747,\n",
       " 748,\n",
       " 750,\n",
       " 751,\n",
       " 753,\n",
       " 754,\n",
       " 755,\n",
       " 756,\n",
       " 758,\n",
       " 760,\n",
       " 761,\n",
       " 765,\n",
       " 774,\n",
       " 780,\n",
       " 805,\n",
       " 806,\n",
       " 807,\n",
       " 809,\n",
       " 810,\n",
       " 811,\n",
       " 812,\n",
       " 813,\n",
       " 814,\n",
       " 816,\n",
       " 817,\n",
       " 820,\n",
       " 821,\n",
       " 822,\n",
       " 823,\n",
       " 824,\n",
       " 825,\n",
       " 826,\n",
       " 827,\n",
       " 831,\n",
       " 856,\n",
       " 859,\n",
       " 860,\n",
       " 864,\n",
       " 866,\n",
       " 867,\n",
       " 870,\n",
       " 872,\n",
       " 873,\n",
       " 874,\n",
       " 875,\n",
       " 876,\n",
       " 877,\n",
       " 878,\n",
       " 879,\n",
       " 880,\n",
       " 882,\n",
       " 883,\n",
       " 884,\n",
       " 885,\n",
       " 887,\n",
       " 888,\n",
       " 890,\n",
       " 891,\n",
       " 892,\n",
       " 893,\n",
       " 894,\n",
       " 895,\n",
       " 898,\n",
       " 899,\n",
       " 900,\n",
       " 902,\n",
       " 904,\n",
       " 905,\n",
       " 906,\n",
       " 907,\n",
       " 909,\n",
       " 911,\n",
       " 912,\n",
       " 913,\n",
       " 914,\n",
       " 915,\n",
       " 917,\n",
       " 919,\n",
       " 920,\n",
       " 921,\n",
       " 922,\n",
       " 924,\n",
       " 926,\n",
       " 927,\n",
       " 928,\n",
       " 929,\n",
       " 930,\n",
       " 931,\n",
       " 932,\n",
       " 933,\n",
       " 934,\n",
       " 935,\n",
       " 936,\n",
       " 937,\n",
       " 938,\n",
       " 940,\n",
       " 941,\n",
       " 942,\n",
       " 943,\n",
       " 944,\n",
       " 945,\n",
       " 946,\n",
       " 947,\n",
       " 952,\n",
       " 954,\n",
       " 955,\n",
       " 956,\n",
       " 957,\n",
       " 958,\n",
       " 960,\n",
       " 962,\n",
       " 964,\n",
       " 965,\n",
       " 966,\n",
       " 968,\n",
       " 969,\n",
       " 970,\n",
       " 971,\n",
       " 973,\n",
       " 975,\n",
       " 977,\n",
       " 981,\n",
       " 988,\n",
       " 990,\n",
       " 991,\n",
       " 993,\n",
       " 994,\n",
       " 995,\n",
       " 998,\n",
       " 999,\n",
       " 1000,\n",
       " 1001,\n",
       " 1002,\n",
       " 1004,\n",
       " 1005,\n",
       " 1006,\n",
       " 1008,\n",
       " 1010,\n",
       " 1011,\n",
       " 1013,\n",
       " 1014,\n",
       " 1016,\n",
       " 1018,\n",
       " 1019,\n",
       " 1020,\n",
       " 1022,\n",
       " 1023,\n",
       " 1024,\n",
       " 1025,\n",
       " 1026,\n",
       " 1027,\n",
       " 1028,\n",
       " 1030,\n",
       " 1031,\n",
       " 1032,\n",
       " 1033,\n",
       " 1035,\n",
       " 1036,\n",
       " 1037,\n",
       " 1038,\n",
       " 1039,\n",
       " 1040,\n",
       " 1041,\n",
       " 1042,\n",
       " 1043,\n",
       " 1044,\n",
       " 1045,\n",
       " 1047,\n",
       " 1048,\n",
       " 1050,\n",
       " 1052,\n",
       " 1053,\n",
       " 1054,\n",
       " 1055,\n",
       " 1056,\n",
       " 1057,\n",
       " 1058,\n",
       " 1059,\n",
       " 1060,\n",
       " 1063,\n",
       " 1065,\n",
       " 1066,\n",
       " 1067,\n",
       " 1068,\n",
       " 1069,\n",
       " 1071,\n",
       " 1072,\n",
       " 1073,\n",
       " 1074,\n",
       " 1075,\n",
       " 1076,\n",
       " 1077,\n",
       " 1078,\n",
       " 1079,\n",
       " 1081,\n",
       " 1082,\n",
       " 1083,\n",
       " 1085,\n",
       " 1086,\n",
       " 1087,\n",
       " 1088,\n",
       " 1089,\n",
       " 1090,\n",
       " 1091,\n",
       " 1092,\n",
       " 1094,\n",
       " 1095,\n",
       " 1097,\n",
       " 1098,\n",
       " 1099,\n",
       " 1100,\n",
       " 1102,\n",
       " 1103,\n",
       " 1104,\n",
       " 1108,\n",
       " 1109,\n",
       " 1110,\n",
       " 1111,\n",
       " 1112,\n",
       " 1114,\n",
       " 1116,\n",
       " 1117,\n",
       " 1119,\n",
       " 1120,\n",
       " 1121,\n",
       " 1122,\n",
       " 1123,\n",
       " 1124,\n",
       " 1125,\n",
       " 1126,\n",
       " 1128,\n",
       " 1130,\n",
       " 1132,\n",
       " 1133,\n",
       " 1134,\n",
       " 1135,\n",
       " 1136,\n",
       " 1137,\n",
       " 1138,\n",
       " 1139,\n",
       " 1141,\n",
       " 1142,\n",
       " 1143,\n",
       " 1144,\n",
       " 1146,\n",
       " 1147,\n",
       " 1148,\n",
       " 1149,\n",
       " 1150,\n",
       " 1151,\n",
       " 1152,\n",
       " 1153,\n",
       " 1155,\n",
       " 1156,\n",
       " 1157,\n",
       " 1158,\n",
       " 1159,\n",
       " 1161,\n",
       " 1166,\n",
       " 1167,\n",
       " 1168,\n",
       " 1169,\n",
       " 1170,\n",
       " 1171,\n",
       " 1172,\n",
       " 1173,\n",
       " 1174,\n",
       " 1176,\n",
       " 1177,\n",
       " 1179,\n",
       " 1180,\n",
       " 1182,\n",
       " 1183,\n",
       " 1184,\n",
       " 1185,\n",
       " 1186,\n",
       " 1187,\n",
       " 1188,\n",
       " 1189,\n",
       " 1190,\n",
       " 1191,\n",
       " 1203,\n",
       " 1210,\n",
       " 1211,\n",
       " 1213,\n",
       " 1215,\n",
       " 1216,\n",
       " 1219,\n",
       " 1220,\n",
       " 1222,\n",
       " 1223,\n",
       " 1224,\n",
       " 1225,\n",
       " 1226,\n",
       " 1227,\n",
       " 1228,\n",
       " 1229,\n",
       " 1230,\n",
       " 1234,\n",
       " 1235,\n",
       " 1236,\n",
       " 1237,\n",
       " 1238,\n",
       " 1239,\n",
       " 1240,\n",
       " 1241,\n",
       " 1242,\n",
       " 1243,\n",
       " 1244,\n",
       " 1245,\n",
       " 1247,\n",
       " 1248,\n",
       " 1249,\n",
       " 1250,\n",
       " 1251,\n",
       " 1252,\n",
       " 1254,\n",
       " 1255,\n",
       " 1256,\n",
       " 1257,\n",
       " 1259,\n",
       " 1260,\n",
       " 1261,\n",
       " 1262,\n",
       " 1263,\n",
       " 1265,\n",
       " 1266,\n",
       " 1267,\n",
       " 1268,\n",
       " 1269,\n",
       " 1270,\n",
       " 1271,\n",
       " 1273,\n",
       " 1274,\n",
       " 1276,\n",
       " 1277,\n",
       " 1278,\n",
       " 1280,\n",
       " 1281,\n",
       " 1282,\n",
       " 1283,\n",
       " 1284,\n",
       " 1285,\n",
       " 1287,\n",
       " 1288,\n",
       " 1289,\n",
       " 1290,\n",
       " 1291,\n",
       " 1292,\n",
       " 1295,\n",
       " 1297,\n",
       " 1298,\n",
       " 1299,\n",
       " 1300,\n",
       " 1301,\n",
       " 1302,\n",
       " 1303,\n",
       " 1316,\n",
       " 1317,\n",
       " 1319,\n",
       " 1320,\n",
       " 1321,\n",
       " 1323,\n",
       " 1324,\n",
       " 1325,\n",
       " 1326,\n",
       " 1327,\n",
       " 1329,\n",
       " 1330,\n",
       " 1331,\n",
       " 1332,\n",
       " 1333,\n",
       " 1334,\n",
       " 1335,\n",
       " 1336,\n",
       " 1338,\n",
       " 1339,\n",
       " 1341,\n",
       " 1343,\n",
       " 1344,\n",
       " 1345,\n",
       " 1346,\n",
       " 1350,\n",
       " 1351,\n",
       " 1352,\n",
       " 1355,\n",
       " 1356,\n",
       " 1357,\n",
       " 1358,\n",
       " 1360,\n",
       " 1361,\n",
       " 1362,\n",
       " 1363,\n",
       " 1365,\n",
       " 1366,\n",
       " 1367,\n",
       " 1368,\n",
       " 1369,\n",
       " 1370,\n",
       " 1371,\n",
       " 1372,\n",
       " 1373,\n",
       " 1374,\n",
       " 1375,\n",
       " 1376,\n",
       " 1377,\n",
       " 1379,\n",
       " 1380,\n",
       " 1381,\n",
       " 1382,\n",
       " 1383,\n",
       " 1385,\n",
       " 1386,\n",
       " 1387,\n",
       " 1388,\n",
       " 1390,\n",
       " 1391,\n",
       " 1392,\n",
       " 1394,\n",
       " 1403,\n",
       " 1412,\n",
       " 1416,\n",
       " 1417,\n",
       " 1418,\n",
       " 1422,\n",
       " 1428,\n",
       " 1431,\n",
       " 1433,\n",
       " 1435,\n",
       " 1438,\n",
       " 1440,\n",
       " 1441,\n",
       " 1443,\n",
       " 1444,\n",
       " 1446,\n",
       " 1447,\n",
       " 1451,\n",
       " 1452,\n",
       " 1453,\n",
       " 1454,\n",
       " 1466,\n",
       " 1467,\n",
       " 1468,\n",
       " 1470,\n",
       " 1471,\n",
       " 1472,\n",
       " 1473,\n",
       " 1482,\n",
       " 1488,\n",
       " 1490,\n",
       " 1491,\n",
       " 1493,\n",
       " 1494,\n",
       " 1495,\n",
       " 1496,\n",
       " 1498,\n",
       " 1499,\n",
       " 1500,\n",
       " 1501,\n",
       " 1502,\n",
       " 1503,\n",
       " 1504,\n",
       " 1506,\n",
       " 1507,\n",
       " 1508,\n",
       " 1509,\n",
       " 1510,\n",
       " 1512,\n",
       " 1513,\n",
       " 1515,\n",
       " 1517,\n",
       " 1519,\n",
       " 1521,\n",
       " 1522,\n",
       " 1523,\n",
       " 1525,\n",
       " 1533,\n",
       " 1534,\n",
       " 1535,\n",
       " 1536,\n",
       " 1537,\n",
       " 1541,\n",
       " 1542,\n",
       " 1544,\n",
       " 1545,\n",
       " 1546,\n",
       " 1549,\n",
       " 1550,\n",
       " 1551,\n",
       " 1552,\n",
       " 1554,\n",
       " 1555,\n",
       " 1557,\n",
       " 1558,\n",
       " 1565,\n",
       " 1566,\n",
       " 1567,\n",
       " 1568,\n",
       " 1571,\n",
       " 1572,\n",
       " 1573,\n",
       " 1575,\n",
       " 1578,\n",
       " 1579,\n",
       " 1580,\n",
       " 1581,\n",
       " 1582,\n",
       " 1583,\n",
       " 1585,\n",
       " 1586,\n",
       " 1587,\n",
       " 1588,\n",
       " 1589,\n",
       " 1591,\n",
       " 1592,\n",
       " 1593,\n",
       " 1594,\n",
       " 1595,\n",
       " 1596,\n",
       " 1597,\n",
       " 1598,\n",
       " 1599,\n",
       " 1600,\n",
       " 1601,\n",
       " 1602,\n",
       " 1603,\n",
       " 1604,\n",
       " 1607,\n",
       " 1608,\n",
       " 1609,\n",
       " 1610,\n",
       " 1611,\n",
       " 1612,\n",
       " 1613,\n",
       " 1614,\n",
       " 1615,\n",
       " 1616,\n",
       " 1617,\n",
       " 1618,\n",
       " 1633,\n",
       " 1636,\n",
       " 1641,\n",
       " 1642,\n",
       " 1649,\n",
       " 1674,\n",
       " 1675,\n",
       " 1676,\n",
       " 1687,\n",
       " 1689,\n",
       " 1709,\n",
       " 1782,\n",
       " 1783,\n",
       " 1785,\n",
       " 1786,\n",
       " 1787,\n",
       " 1788,\n",
       " 1790,\n",
       " 1792,\n",
       " 1794,\n",
       " 1796,\n",
       " 1797,\n",
       " 1798,\n",
       " 1799,\n",
       " 1801,\n",
       " 1802,\n",
       " 1803,\n",
       " 1804,\n",
       " 1805,\n",
       " 1806,\n",
       " 1807,\n",
       " 1808,\n",
       " 1809,\n",
       " 1810,\n",
       " 1811,\n",
       " 1812,\n",
       " 1813,\n",
       " 1814,\n",
       " 1816,\n",
       " 1818,\n",
       " 1820,\n",
       " 1822,\n",
       " 1824,\n",
       " ...]"
      ]
     },
     "execution_count": 5,
     "metadata": {},
     "output_type": "execute_result"
    }
   ],
   "source": [
    "dogs = []\n",
    "for i in range(len(df)):\n",
    "    if ('dog' in df[\"review_processed\"][i] or 'dogs' in df[\"review_processed\"][i] or 'puppy' in df[\"review_processed\"][i] or 'puppies' in df[\"review_processed\"][i] \n",
    "        or 'doggy' in df[\"review_processed\"][i] or 'doggies' in df[\"review_processed\"][i] == True):\n",
    "        dogs.append(i)\n",
    "dogs"
   ]
  },
  {
   "cell_type": "code",
   "execution_count": 6,
   "id": "f9922c86",
   "metadata": {},
   "outputs": [
    {
     "data": {
      "text/html": [
       "<div>\n",
       "<style scoped>\n",
       "    .dataframe tbody tr th:only-of-type {\n",
       "        vertical-align: middle;\n",
       "    }\n",
       "\n",
       "    .dataframe tbody tr th {\n",
       "        vertical-align: top;\n",
       "    }\n",
       "\n",
       "    .dataframe thead th {\n",
       "        text-align: right;\n",
       "    }\n",
       "</style>\n",
       "<table border=\"1\" class=\"dataframe\">\n",
       "  <thead>\n",
       "    <tr style=\"text-align: right;\">\n",
       "      <th></th>\n",
       "      <th>Unnamed: 0</th>\n",
       "      <th>reviewerID</th>\n",
       "      <th>asin</th>\n",
       "      <th>helpful</th>\n",
       "      <th>reviewText</th>\n",
       "      <th>overall</th>\n",
       "      <th>summary</th>\n",
       "      <th>unixReviewTime</th>\n",
       "      <th>reviewTime</th>\n",
       "      <th>review_processed</th>\n",
       "    </tr>\n",
       "  </thead>\n",
       "  <tbody>\n",
       "    <tr>\n",
       "      <th>4</th>\n",
       "      <td>4</td>\n",
       "      <td>A2UBQA85NIGLHA</td>\n",
       "      <td>1223000893</td>\n",
       "      <td>[6, 7]</td>\n",
       "      <td>If I had gotten just volume two, I would have ...</td>\n",
       "      <td>3.0</td>\n",
       "      <td>You really only need vol 2</td>\n",
       "      <td>1330905600</td>\n",
       "      <td>03 5, 2012</td>\n",
       "      <td>[gotten, just, volume, given, stars, got, tril...</td>\n",
       "    </tr>\n",
       "    <tr>\n",
       "      <th>6</th>\n",
       "      <td>6</td>\n",
       "      <td>A2R4JCEFLTFU8F</td>\n",
       "      <td>4847676011</td>\n",
       "      <td>[2, 2]</td>\n",
       "      <td>My puppy loves this stuff! His tail starts wag...</td>\n",
       "      <td>5.0</td>\n",
       "      <td>Naturally Yummy!</td>\n",
       "      <td>1384560000</td>\n",
       "      <td>11 16, 2013</td>\n",
       "      <td>[puppy, loves, stuff, tail, starts, wagging, s...</td>\n",
       "    </tr>\n",
       "    <tr>\n",
       "      <th>7</th>\n",
       "      <td>7</td>\n",
       "      <td>A14B4MJ7KZE63B</td>\n",
       "      <td>4847676011</td>\n",
       "      <td>[2, 2]</td>\n",
       "      <td>My toy poodle loves this stuff and will let me...</td>\n",
       "      <td>4.0</td>\n",
       "      <td>bought to help with dog breath</td>\n",
       "      <td>1394323200</td>\n",
       "      <td>03 9, 2014</td>\n",
       "      <td>[toy, poodle, loves, stuff, let, sort, brush, ...</td>\n",
       "    </tr>\n",
       "    <tr>\n",
       "      <th>8</th>\n",
       "      <td>8</td>\n",
       "      <td>A2JDB26Y78TT8Z</td>\n",
       "      <td>4847676011</td>\n",
       "      <td>[0, 0]</td>\n",
       "      <td>Works great and dog doesn't hate the taste.  G...</td>\n",
       "      <td>5.0</td>\n",
       "      <td>Brushing those teeth isn't so hard with this d...</td>\n",
       "      <td>1384819200</td>\n",
       "      <td>11 19, 2013</td>\n",
       "      <td>[works, great, dog, doesnt, hate, taste, gum, ...</td>\n",
       "    </tr>\n",
       "    <tr>\n",
       "      <th>10</th>\n",
       "      <td>10</td>\n",
       "      <td>A1OXLCCN5XF21I</td>\n",
       "      <td>9376674824</td>\n",
       "      <td>[5, 7]</td>\n",
       "      <td>my dog like his kibbles more than treats (he L...</td>\n",
       "      <td>2.0</td>\n",
       "      <td>my puppy wont eat his food</td>\n",
       "      <td>1302307200</td>\n",
       "      <td>04 9, 2011</td>\n",
       "      <td>[dog, like, kibbles, treats, loves, eat, sprin...</td>\n",
       "    </tr>\n",
       "  </tbody>\n",
       "</table>\n",
       "</div>"
      ],
      "text/plain": [
       "    Unnamed: 0      reviewerID        asin helpful  \\\n",
       "4            4  A2UBQA85NIGLHA  1223000893  [6, 7]   \n",
       "6            6  A2R4JCEFLTFU8F  4847676011  [2, 2]   \n",
       "7            7  A14B4MJ7KZE63B  4847676011  [2, 2]   \n",
       "8            8  A2JDB26Y78TT8Z  4847676011  [0, 0]   \n",
       "10          10  A1OXLCCN5XF21I  9376674824  [5, 7]   \n",
       "\n",
       "                                           reviewText  overall  \\\n",
       "4   If I had gotten just volume two, I would have ...      3.0   \n",
       "6   My puppy loves this stuff! His tail starts wag...      5.0   \n",
       "7   My toy poodle loves this stuff and will let me...      4.0   \n",
       "8   Works great and dog doesn't hate the taste.  G...      5.0   \n",
       "10  my dog like his kibbles more than treats (he L...      2.0   \n",
       "\n",
       "                                              summary  unixReviewTime  \\\n",
       "4                          You really only need vol 2      1330905600   \n",
       "6                                    Naturally Yummy!      1384560000   \n",
       "7                      bought to help with dog breath      1394323200   \n",
       "8   Brushing those teeth isn't so hard with this d...      1384819200   \n",
       "10                         my puppy wont eat his food      1302307200   \n",
       "\n",
       "     reviewTime                                   review_processed  \n",
       "4    03 5, 2012  [gotten, just, volume, given, stars, got, tril...  \n",
       "6   11 16, 2013  [puppy, loves, stuff, tail, starts, wagging, s...  \n",
       "7    03 9, 2014  [toy, poodle, loves, stuff, let, sort, brush, ...  \n",
       "8   11 19, 2013  [works, great, dog, doesnt, hate, taste, gum, ...  \n",
       "10   04 9, 2011  [dog, like, kibbles, treats, loves, eat, sprin...  "
      ]
     },
     "execution_count": 6,
     "metadata": {},
     "output_type": "execute_result"
    }
   ],
   "source": [
    "dogData = df.iloc[dogs]\n",
    "\n",
    "dogData.head()"
   ]
  },
  {
   "cell_type": "markdown",
   "id": "7f7b5bb0",
   "metadata": {},
   "source": [
    "# Preprocessing"
   ]
  },
  {
   "cell_type": "code",
   "execution_count": 10,
   "id": "042072aa",
   "metadata": {},
   "outputs": [],
   "source": [
    "import re\n",
    "from sklearn import feature_extraction \n",
    "stop_words = feature_extraction.text.ENGLISH_STOP_WORDS\n",
    "from nltk.stem import PorterStemmer\n",
    "from nltk.stem import WordNetLemmatizer\n",
    "\n",
    "def preprocess(text):\n",
    "  text = text.lower() #lowercase\n",
    "  text = re.sub(r'[^\\w\\s]', '', text) #remove punctuations\n",
    "  text = re.sub(r'\\d+', '', text) #remove numbers\n",
    "  text = \" \".join(text.split()) #stripWhitespace\n",
    "  text = text.split()\n",
    "  text = [x for x in text if x not in stop_words] #remove stopwords\n",
    "  text = [x for x in text if x not in [\"dog\",\"dogs\",\"use\",\"like\",\"just\",\"used\",\"great\",\"good\"\n",
    "                                      ]] #remove task specific stopwords\n",
    "  text = \" \".join(text)\n",
    "  return(text)"
   ]
  },
  {
   "cell_type": "code",
   "execution_count": 12,
   "id": "133814b7",
   "metadata": {},
   "outputs": [
    {
     "name": "stderr",
     "output_type": "stream",
     "text": [
      "/var/folders/1z/xqn19h_x6y7bdg8t43_026fm0000gn/T/ipykernel_3232/610325684.py:3: SettingWithCopyWarning: \n",
      "A value is trying to be set on a copy of a slice from a DataFrame.\n",
      "Try using .loc[row_indexer,col_indexer] = value instead\n",
      "\n",
      "See the caveats in the documentation: https://pandas.pydata.org/pandas-docs/stable/user_guide/indexing.html#returning-a-view-versus-a-copy\n",
      "  dogData[\"review_processed\"] = dogData[\"reviewText\"].apply(lambda x:preprocess(str(x)))\n",
      "/var/folders/1z/xqn19h_x6y7bdg8t43_026fm0000gn/T/ipykernel_3232/610325684.py:4: SettingWithCopyWarning: \n",
      "A value is trying to be set on a copy of a slice from a DataFrame.\n",
      "Try using .loc[row_indexer,col_indexer] = value instead\n",
      "\n",
      "See the caveats in the documentation: https://pandas.pydata.org/pandas-docs/stable/user_guide/indexing.html#returning-a-view-versus-a-copy\n",
      "  dogData[\"review_processed\"]=dogData[\"review_processed\"].apply(lambda x:x.split())\n"
     ]
    },
    {
     "data": {
      "text/html": [
       "<div>\n",
       "<style scoped>\n",
       "    .dataframe tbody tr th:only-of-type {\n",
       "        vertical-align: middle;\n",
       "    }\n",
       "\n",
       "    .dataframe tbody tr th {\n",
       "        vertical-align: top;\n",
       "    }\n",
       "\n",
       "    .dataframe thead th {\n",
       "        text-align: right;\n",
       "    }\n",
       "</style>\n",
       "<table border=\"1\" class=\"dataframe\">\n",
       "  <thead>\n",
       "    <tr style=\"text-align: right;\">\n",
       "      <th></th>\n",
       "      <th>Unnamed: 0</th>\n",
       "      <th>reviewerID</th>\n",
       "      <th>asin</th>\n",
       "      <th>helpful</th>\n",
       "      <th>reviewText</th>\n",
       "      <th>overall</th>\n",
       "      <th>summary</th>\n",
       "      <th>unixReviewTime</th>\n",
       "      <th>reviewTime</th>\n",
       "      <th>review_processed</th>\n",
       "      <th>year</th>\n",
       "      <th>month</th>\n",
       "    </tr>\n",
       "  </thead>\n",
       "  <tbody>\n",
       "    <tr>\n",
       "      <th>4</th>\n",
       "      <td>4</td>\n",
       "      <td>A2UBQA85NIGLHA</td>\n",
       "      <td>1223000893</td>\n",
       "      <td>[6, 7]</td>\n",
       "      <td>If I had gotten just volume two, I would have ...</td>\n",
       "      <td>3.0</td>\n",
       "      <td>You really only need vol 2</td>\n",
       "      <td>1330905600</td>\n",
       "      <td>2012-03-05</td>\n",
       "      <td>[gotten, volume, given, stars, got, trilogy, s...</td>\n",
       "      <td>2012</td>\n",
       "      <td>3</td>\n",
       "    </tr>\n",
       "    <tr>\n",
       "      <th>6</th>\n",
       "      <td>6</td>\n",
       "      <td>A2R4JCEFLTFU8F</td>\n",
       "      <td>4847676011</td>\n",
       "      <td>[2, 2]</td>\n",
       "      <td>My puppy loves this stuff! His tail starts wag...</td>\n",
       "      <td>5.0</td>\n",
       "      <td>Naturally Yummy!</td>\n",
       "      <td>1384560000</td>\n",
       "      <td>2013-11-16</td>\n",
       "      <td>[puppy, loves, stuff, tail, starts, wagging, s...</td>\n",
       "      <td>2013</td>\n",
       "      <td>11</td>\n",
       "    </tr>\n",
       "    <tr>\n",
       "      <th>7</th>\n",
       "      <td>7</td>\n",
       "      <td>A14B4MJ7KZE63B</td>\n",
       "      <td>4847676011</td>\n",
       "      <td>[2, 2]</td>\n",
       "      <td>My toy poodle loves this stuff and will let me...</td>\n",
       "      <td>4.0</td>\n",
       "      <td>bought to help with dog breath</td>\n",
       "      <td>1394323200</td>\n",
       "      <td>2014-03-09</td>\n",
       "      <td>[toy, poodle, loves, stuff, let, sort, brush, ...</td>\n",
       "      <td>2014</td>\n",
       "      <td>3</td>\n",
       "    </tr>\n",
       "    <tr>\n",
       "      <th>8</th>\n",
       "      <td>8</td>\n",
       "      <td>A2JDB26Y78TT8Z</td>\n",
       "      <td>4847676011</td>\n",
       "      <td>[0, 0]</td>\n",
       "      <td>Works great and dog doesn't hate the taste.  G...</td>\n",
       "      <td>5.0</td>\n",
       "      <td>Brushing those teeth isn't so hard with this d...</td>\n",
       "      <td>1384819200</td>\n",
       "      <td>2013-11-19</td>\n",
       "      <td>[works, doesnt, hate, taste, gum, health, impo...</td>\n",
       "      <td>2013</td>\n",
       "      <td>11</td>\n",
       "    </tr>\n",
       "    <tr>\n",
       "      <th>10</th>\n",
       "      <td>10</td>\n",
       "      <td>A1OXLCCN5XF21I</td>\n",
       "      <td>9376674824</td>\n",
       "      <td>[5, 7]</td>\n",
       "      <td>my dog like his kibbles more than treats (he L...</td>\n",
       "      <td>2.0</td>\n",
       "      <td>my puppy wont eat his food</td>\n",
       "      <td>1302307200</td>\n",
       "      <td>2011-04-09</td>\n",
       "      <td>[kibbles, treats, loves, eat, sprinkled, foodh...</td>\n",
       "      <td>2011</td>\n",
       "      <td>4</td>\n",
       "    </tr>\n",
       "  </tbody>\n",
       "</table>\n",
       "</div>"
      ],
      "text/plain": [
       "    Unnamed: 0      reviewerID        asin helpful  \\\n",
       "4            4  A2UBQA85NIGLHA  1223000893  [6, 7]   \n",
       "6            6  A2R4JCEFLTFU8F  4847676011  [2, 2]   \n",
       "7            7  A14B4MJ7KZE63B  4847676011  [2, 2]   \n",
       "8            8  A2JDB26Y78TT8Z  4847676011  [0, 0]   \n",
       "10          10  A1OXLCCN5XF21I  9376674824  [5, 7]   \n",
       "\n",
       "                                           reviewText  overall  \\\n",
       "4   If I had gotten just volume two, I would have ...      3.0   \n",
       "6   My puppy loves this stuff! His tail starts wag...      5.0   \n",
       "7   My toy poodle loves this stuff and will let me...      4.0   \n",
       "8   Works great and dog doesn't hate the taste.  G...      5.0   \n",
       "10  my dog like his kibbles more than treats (he L...      2.0   \n",
       "\n",
       "                                              summary  unixReviewTime  \\\n",
       "4                          You really only need vol 2      1330905600   \n",
       "6                                    Naturally Yummy!      1384560000   \n",
       "7                      bought to help with dog breath      1394323200   \n",
       "8   Brushing those teeth isn't so hard with this d...      1384819200   \n",
       "10                         my puppy wont eat his food      1302307200   \n",
       "\n",
       "   reviewTime                                   review_processed  year  month  \n",
       "4  2012-03-05  [gotten, volume, given, stars, got, trilogy, s...  2012      3  \n",
       "6  2013-11-16  [puppy, loves, stuff, tail, starts, wagging, s...  2013     11  \n",
       "7  2014-03-09  [toy, poodle, loves, stuff, let, sort, brush, ...  2014      3  \n",
       "8  2013-11-19  [works, doesnt, hate, taste, gum, health, impo...  2013     11  \n",
       "10 2011-04-09  [kibbles, treats, loves, eat, sprinkled, foodh...  2011      4  "
      ]
     },
     "execution_count": 12,
     "metadata": {},
     "output_type": "execute_result"
    }
   ],
   "source": [
    "# get the dog related dataset\n",
    "\n",
    "dogData[\"review_processed\"] = dogData[\"reviewText\"].apply(lambda x:preprocess(str(x)))\n",
    "dogData[\"review_processed\"]=dogData[\"review_processed\"].apply(lambda x:x.split())\n",
    "\n",
    "dogData.head(5)"
   ]
  },
  {
   "cell_type": "markdown",
   "id": "dc2e0cb7",
   "metadata": {},
   "source": [
    "## Date"
   ]
  },
  {
   "cell_type": "code",
   "execution_count": 13,
   "id": "da270ccf",
   "metadata": {
    "scrolled": false
   },
   "outputs": [
    {
     "name": "stderr",
     "output_type": "stream",
     "text": [
      "/var/folders/1z/xqn19h_x6y7bdg8t43_026fm0000gn/T/ipykernel_3232/3247721255.py:1: SettingWithCopyWarning: \n",
      "A value is trying to be set on a copy of a slice from a DataFrame.\n",
      "Try using .loc[row_indexer,col_indexer] = value instead\n",
      "\n",
      "See the caveats in the documentation: https://pandas.pydata.org/pandas-docs/stable/user_guide/indexing.html#returning-a-view-versus-a-copy\n",
      "  dogData['reviewTime']=pd.to_datetime(dogData['reviewTime'])\n",
      "/var/folders/1z/xqn19h_x6y7bdg8t43_026fm0000gn/T/ipykernel_3232/3247721255.py:2: SettingWithCopyWarning: \n",
      "A value is trying to be set on a copy of a slice from a DataFrame.\n",
      "Try using .loc[row_indexer,col_indexer] = value instead\n",
      "\n",
      "See the caveats in the documentation: https://pandas.pydata.org/pandas-docs/stable/user_guide/indexing.html#returning-a-view-versus-a-copy\n",
      "  dogData['year']=dogData['reviewTime'].dt.year\n",
      "/var/folders/1z/xqn19h_x6y7bdg8t43_026fm0000gn/T/ipykernel_3232/3247721255.py:3: SettingWithCopyWarning: \n",
      "A value is trying to be set on a copy of a slice from a DataFrame.\n",
      "Try using .loc[row_indexer,col_indexer] = value instead\n",
      "\n",
      "See the caveats in the documentation: https://pandas.pydata.org/pandas-docs/stable/user_guide/indexing.html#returning-a-view-versus-a-copy\n",
      "  dogData['month']=dogData['reviewTime'].dt.month\n"
     ]
    }
   ],
   "source": [
    "dogData['reviewTime']=pd.to_datetime(dogData['reviewTime'])\n",
    "dogData['year']=dogData['reviewTime'].dt.year\n",
    "dogData['month']=dogData['reviewTime'].dt.month"
   ]
  },
  {
   "cell_type": "code",
   "execution_count": 14,
   "id": "ed5e8cd1",
   "metadata": {
    "scrolled": true
   },
   "outputs": [
    {
     "data": {
      "image/png": "[encoded data removed]",
      "text/plain": [
       "<Figure size 1296x432 with 1 Axes>"
      ]
     },
     "metadata": {
      "needs_background": "light"
     },
     "output_type": "display_data"
    }
   ],
   "source": [
    "import pandas as pd  \n",
    "import matplotlib.pyplot as plot\n",
    "\n",
    "# create a figure and axis\n",
    "# set size\n",
    "figure, axis = plot.subplots(figsize = (18, 6))\n",
    "\n",
    "# count the occurrence of each year\n",
    "count_data = dogData[\"year\"].value_counts()\n",
    "\n",
    "# get the x and y data\n",
    "\n",
    "# x axis data\n",
    "points = count_data.index\n",
    "\n",
    "# y axis data\n",
    "frequencies = count_data.values\n",
    "\n",
    "# create the bar chart\n",
    "axis.bar(points, frequencies)\n",
    "\n",
    "# set the title and labels\n",
    "axis.set_title (\"Amazon Review Frequency by Year\")\n",
    "axis.set_xlabel (\"Year\")\n",
    "axis.set_ylabel (\"Frequency\")\n",
    "axis. xaxis. label. set_size(20)\n",
    "axis. yaxis. label. set_size(20)"
   ]
  },
  {
   "cell_type": "markdown",
   "id": "1d899960",
   "metadata": {},
   "source": [
    "# Topic Model"
   ]
  },
  {
   "cell_type": "code",
   "execution_count": 15,
   "id": "08ec2c4e",
   "metadata": {
    "scrolled": true
   },
   "outputs": [
    {
     "name": "stderr",
     "output_type": "stream",
     "text": [
      "/var/folders/1z/xqn19h_x6y7bdg8t43_026fm0000gn/T/ipykernel_3232/642183449.py:11: SettingWithCopyWarning: \n",
      "A value is trying to be set on a copy of a slice from a DataFrame.\n",
      "Try using .loc[row_indexer,col_indexer] = value instead\n",
      "\n",
      "See the caveats in the documentation: https://pandas.pydata.org/pandas-docs/stable/user_guide/indexing.html#returning-a-view-versus-a-copy\n",
      "  dogData[\"review_processed\"]=dogData[\"review_processed\"].apply(lambda x:dictionary.doc2bow(x))\n"
     ]
    },
    {
     "name": "stdout",
     "output_type": "stream",
     "text": [
      "(0, '0.006*\"leash\" + 0.006*\"collar\" + 0.006*\"small\" + 0.006*\"little\" + 0.006*\"easy\" + 0.006*\"really\"')\n",
      "(1, '0.026*\"food\" + 0.009*\"product\" + 0.007*\"eat\" + 0.007*\"bag\" + 0.006*\"ingredients\" + 0.006*\"chicken\"')\n",
      "(2, '0.024*\"treats\" + 0.014*\"toy\" + 0.014*\"loves\" + 0.012*\"treat\" + 0.011*\"love\" + 0.011*\"chew\"')\n"
     ]
    }
   ],
   "source": [
    "from gensim import corpora\n",
    "\n",
    "dictionary = corpora.Dictionary(dogData[\"review_processed\"]) \n",
    "dictionary.filter_extremes(no_below=50)\n",
    "\n",
    "dictionaryDF = pd.DataFrame()\n",
    "dictionaryDF['id']=dictionary.keys()\n",
    "dictionaryDF['word']=dictionary.values()\n",
    "\n",
    "dictionary = corpora.Dictionary(dogData[\"review_processed\"])\n",
    "dogData[\"review_processed\"]=dogData[\"review_processed\"].apply(lambda x:dictionary.doc2bow(x))\n",
    "\n",
    "from gensim import models\n",
    "num_topics= 3\n",
    "#how many topics\n",
    "ldamodel = models.ldamodel.LdaModel(dogData[\"review_processed\"], num_topics = num_topics, id2word=dictionary, passes=1, random_state=100)\n",
    "topics = ldamodel.print_topics(num_words=6)\n",
    "for topic in topics:\n",
    "    print(topic)"
   ]
  },
  {
   "cell_type": "markdown",
   "id": "948de542",
   "metadata": {},
   "source": [
    "# Sentiment Analysis & Word2Vec Models"
   ]
  },
  {
   "cell_type": "code",
   "execution_count": 22,
   "id": "9aaf62a9",
   "metadata": {},
   "outputs": [],
   "source": [
    "#all dog data\n",
    "from gensim.models.word2vec import Word2Vec\n",
    "\n",
    "model=Word2Vec.load('allData.w2v')"
   ]
  },
  {
   "cell_type": "code",
   "execution_count": 23,
   "id": "2bb027df",
   "metadata": {},
   "outputs": [],
   "source": [
    "#get sentiments \n",
    "from nltk.sentiment import SentimentIntensityAnalyzer\n",
    "sia = SentimentIntensityAnalyzer()\n",
    "\n",
    "def get_positivity(row):\n",
    "    text = row['reviewText']\n",
    "    return sia.polarity_scores(text)['pos']\n",
    "\n",
    "def get_negativity(row):\n",
    "    text = row['reviewText']\n",
    "    return sia.polarity_scores(text)['neg']"
   ]
  },
  {
   "cell_type": "code",
   "execution_count": 24,
   "id": "e2bd86c6",
   "metadata": {},
   "outputs": [
    {
     "name": "stderr",
     "output_type": "stream",
     "text": [
      "/var/folders/1z/xqn19h_x6y7bdg8t43_026fm0000gn/T/ipykernel_3232/1734369771.py:1: SettingWithCopyWarning: \n",
      "A value is trying to be set on a copy of a slice from a DataFrame.\n",
      "Try using .loc[row_indexer,col_indexer] = value instead\n",
      "\n",
      "See the caveats in the documentation: https://pandas.pydata.org/pandas-docs/stable/user_guide/indexing.html#returning-a-view-versus-a-copy\n",
      "  dogData['positivity'] = dogData.apply(lambda row : get_positivity(row), axis = 1)\n"
     ]
    }
   ],
   "source": [
    "dogData['positivity'] = dogData.apply(lambda row : get_positivity(row), axis = 1)"
   ]
  },
  {
   "cell_type": "code",
   "execution_count": 25,
   "id": "5033355a",
   "metadata": {},
   "outputs": [
    {
     "name": "stderr",
     "output_type": "stream",
     "text": [
      "/var/folders/1z/xqn19h_x6y7bdg8t43_026fm0000gn/T/ipykernel_3232/1035897099.py:1: SettingWithCopyWarning: \n",
      "A value is trying to be set on a copy of a slice from a DataFrame.\n",
      "Try using .loc[row_indexer,col_indexer] = value instead\n",
      "\n",
      "See the caveats in the documentation: https://pandas.pydata.org/pandas-docs/stable/user_guide/indexing.html#returning-a-view-versus-a-copy\n",
      "  dogData['negativity'] = dogData.apply(lambda row : get_negativity(row), axis = 1)\n"
     ]
    }
   ],
   "source": [
    "dogData['negativity'] = dogData.apply(lambda row : get_negativity(row), axis = 1)"
   ]
  },
  {
   "cell_type": "code",
   "execution_count": 26,
   "id": "43a90972",
   "metadata": {},
   "outputs": [],
   "source": [
    "pos = []\n",
    "neg = []\n",
    "for row in dogData.index:\n",
    "    if dogData[\"positivity\"][row] >= dogData[\"negativity\"][row]:\n",
    "        pos.append(row)\n",
    "    else:\n",
    "        neg.append(row)"
   ]
  },
  {
   "cell_type": "code",
   "execution_count": 27,
   "id": "729e44b0",
   "metadata": {},
   "outputs": [],
   "source": [
    "posData = dogData.loc[pos]"
   ]
  },
  {
   "cell_type": "code",
   "execution_count": 28,
   "id": "ac59c6b4",
   "metadata": {},
   "outputs": [],
   "source": [
    "negData = dogData.loc[neg]"
   ]
  },
  {
   "cell_type": "code",
   "execution_count": 31,
   "id": "1bfec436",
   "metadata": {},
   "outputs": [],
   "source": [
    "#positive dog data\n",
    "model2=Word2Vec.load('posData.w2v')"
   ]
  },
  {
   "cell_type": "code",
   "execution_count": 32,
   "id": "45553993",
   "metadata": {},
   "outputs": [],
   "source": [
    "#negative dog data\n",
    "model3=Word2Vec.load('negData.w2v')"
   ]
  },
  {
   "cell_type": "markdown",
   "id": "82797338",
   "metadata": {},
   "source": [
    "## General findings"
   ]
  },
  {
   "cell_type": "markdown",
   "id": "25316adb",
   "metadata": {},
   "source": [
    "### Health / Issues"
   ]
  },
  {
   "cell_type": "code",
   "execution_count": 1,
   "id": "5144a7a5",
   "metadata": {
    "scrolled": true
   },
   "outputs": [
    {
     "ename": "NameError",
     "evalue": "name 'model' is not defined",
     "output_type": "error",
     "traceback": [
      "\u001b[0;31m---------------------------------------------------------------------------\u001b[0m",
      "\u001b[0;31mNameError\u001b[0m                                 Traceback (most recent call last)",
      "Input \u001b[0;32mIn [1]\u001b[0m, in \u001b[0;36m<cell line: 1>\u001b[0;34m()\u001b[0m\n\u001b[0;32m----> 1\u001b[0m \u001b[43mmodel\u001b[49m\u001b[38;5;241m.\u001b[39mwv\u001b[38;5;241m.\u001b[39mmost_similar(\u001b[38;5;124m'\u001b[39m\u001b[38;5;124mhealth\u001b[39m\u001b[38;5;124m'\u001b[39m, topn\u001b[38;5;241m=\u001b[39m\u001b[38;5;241m20\u001b[39m)\n",
      "\u001b[0;31mNameError\u001b[0m: name 'model' is not defined"
     ]
    }
   ],
   "source": [
    "model.wv.most_similar('health', topn=20)"
   ]
  },
  {
   "cell_type": "code",
   "execution_count": null,
   "id": "646de82e",
   "metadata": {},
   "outputs": [],
   "source": [
    "model.wv.most_similar('issues', topn=20)"
   ]
  },
  {
   "cell_type": "markdown",
   "id": "8821ee6c",
   "metadata": {},
   "source": [
    "### Food / Treat"
   ]
  },
  {
   "cell_type": "code",
   "execution_count": 18,
   "id": "2e26296d",
   "metadata": {
    "scrolled": true
   },
   "outputs": [
    {
     "data": {
      "text/plain": [
       "[('foods', 0.8607029318809509),\n",
       " ('canned', 0.823520302772522),\n",
       " ('feed', 0.7764318585395813),\n",
       " ('kibble', 0.774937629699707),\n",
       " ('beneful', 0.7684417963027954),\n",
       " ('foodi', 0.7581843137741089),\n",
       " ('iams', 0.7314141988754272),\n",
       " ('nutrience', 0.7290564179420471),\n",
       " ('grainfree', 0.7245274782180786),\n",
       " ('wellness', 0.718381404876709),\n",
       " ('feeding', 0.7177774310112),\n",
       " ('kibbles', 0.6995685696601868),\n",
       " ('grain', 0.689814567565918),\n",
       " ('merrick', 0.6772351264953613),\n",
       " ('fed', 0.6719245314598083),\n",
       " ('science', 0.6700250506401062),\n",
       " ('diet', 0.6657546758651733),\n",
       " ('eat', 0.6642017364501953),\n",
       " ('orijen', 0.6616511940956116),\n",
       " ('dry', 0.65117347240448)]"
      ]
     },
     "execution_count": 18,
     "metadata": {},
     "output_type": "execute_result"
    }
   ],
   "source": [
    "model.wv.most_similar('food', topn=20)"
   ]
  },
  {
   "cell_type": "code",
   "execution_count": 19,
   "id": "ba423363",
   "metadata": {},
   "outputs": [
    {
     "data": {
      "text/plain": [
       "[('food', 0.8607029914855957),\n",
       " ('grainfree', 0.7718530893325806),\n",
       " ('canned', 0.7538586854934692),\n",
       " ('grains', 0.7461742758750916),\n",
       " ('grain', 0.7428746819496155),\n",
       " ('iams', 0.7360897660255432),\n",
       " ('beneful', 0.7292384505271912),\n",
       " ('wellness', 0.7248213291168213),\n",
       " ('ingredients', 0.7212700247764587),\n",
       " ('diet', 0.7194106578826904),\n",
       " ('fillers', 0.7178388237953186),\n",
       " ('merrick', 0.7091771960258484),\n",
       " ('nutrience', 0.7026435136795044),\n",
       " ('foodi', 0.6976250410079956),\n",
       " ('feed', 0.6911323666572571),\n",
       " ('nutrition', 0.6829206347465515),\n",
       " ('science', 0.6794840693473816),\n",
       " ('protein', 0.6692298650741577),\n",
       " ('nutritious', 0.6556248068809509),\n",
       " ('meat', 0.6538680791854858)]"
      ]
     },
     "execution_count": 19,
     "metadata": {},
     "output_type": "execute_result"
    }
   ],
   "source": [
    "model.wv.most_similar('foods', topn=20)"
   ]
  },
  {
   "cell_type": "code",
   "execution_count": 20,
   "id": "ab900baf",
   "metadata": {},
   "outputs": [
    {
     "data": {
      "text/plain": [
       "[('treats', 0.8329103589057922),\n",
       " ('snack', 0.7196111679077148),\n",
       " ('biscuit', 0.6842326521873474),\n",
       " ('yummy', 0.6677627563476562),\n",
       " ('reward', 0.6553356051445007),\n",
       " ('tasty', 0.6551364660263062),\n",
       " ('cookie', 0.6444391012191772),\n",
       " ('biscuits', 0.6210341453552246),\n",
       " ('snacks', 0.6173635125160217),\n",
       " ('cookies', 0.6005010008811951),\n",
       " ('kibble', 0.5789110064506531),\n",
       " ('cheese', 0.5772646069526672),\n",
       " ('meals', 0.5757756233215332),\n",
       " ('chewy', 0.5605968832969666),\n",
       " ('crunchy', 0.5415927767753601),\n",
       " ('everlasting', 0.5374857783317566),\n",
       " ('eagerly', 0.5351067781448364),\n",
       " ('food', 0.5285131931304932),\n",
       " ('meal', 0.5129504203796387),\n",
       " ('breakfast', 0.5128747820854187)]"
      ]
     },
     "execution_count": 20,
     "metadata": {},
     "output_type": "execute_result"
    }
   ],
   "source": [
    "model.wv.most_similar('treat', topn=20)"
   ]
  },
  {
   "cell_type": "code",
   "execution_count": 21,
   "id": "154a81e9",
   "metadata": {},
   "outputs": [
    {
     "data": {
      "text/plain": [
       "[('treat', 0.832910418510437),\n",
       " ('biscuits', 0.7474940419197083),\n",
       " ('snacks', 0.7366456389427185),\n",
       " ('jerky', 0.710914134979248),\n",
       " ('cookies', 0.6912108063697815),\n",
       " ('chewy', 0.6711422801017761),\n",
       " ('biscuit', 0.6706137657165527),\n",
       " ('yummy', 0.6378841996192932),\n",
       " ('zukes', 0.6375686526298523),\n",
       " ('snack', 0.6371181607246399),\n",
       " ('crunchy', 0.6219091415405273),\n",
       " ('tasty', 0.6188508868217468),\n",
       " ('cookie', 0.6158959865570068),\n",
       " ('rewards', 0.6093142032623291),\n",
       " ('reward', 0.6056082844734192),\n",
       " ('kibble', 0.6048826575279236),\n",
       " ('food', 0.6002792716026306),\n",
       " ('crumbly', 0.5932048559188843),\n",
       " ('rawhide', 0.5922307372093201),\n",
       " ('bakery', 0.5909695625305176)]"
      ]
     },
     "execution_count": 21,
     "metadata": {},
     "output_type": "execute_result"
    }
   ],
   "source": [
    "model.wv.most_similar('treats', topn=20)"
   ]
  },
  {
   "cell_type": "markdown",
   "id": "ad722040",
   "metadata": {},
   "source": [
    "positive analysis"
   ]
  },
  {
   "cell_type": "code",
   "execution_count": 33,
   "id": "e6fa7629",
   "metadata": {},
   "outputs": [
    {
     "data": {
      "text/plain": [
       "[('foods', 0.8692801594734192),\n",
       " ('canned', 0.8285573124885559),\n",
       " ('feed', 0.8204514980316162),\n",
       " ('feeding', 0.7958137392997742),\n",
       " ('kibble', 0.7896726727485657),\n",
       " ('beneful', 0.7689862847328186),\n",
       " ('eat', 0.7558553218841553),\n",
       " ('wellness', 0.7549824714660645),\n",
       " ('eating', 0.7489854693412781),\n",
       " ('kibbles', 0.7466190457344055),\n",
       " ('grainfree', 0.7409368753433228),\n",
       " ('grain', 0.739421546459198),\n",
       " ('foodi', 0.7388507723808289),\n",
       " ('iams', 0.7382111549377441),\n",
       " ('eats', 0.7376616597175598),\n",
       " ('meals', 0.7203465104103088),\n",
       " ('nutrience', 0.7132254242897034),\n",
       " ('merrick', 0.7064799666404724),\n",
       " ('diet', 0.7047051191329956),\n",
       " ('orijen', 0.6987754106521606)]"
      ]
     },
     "execution_count": 33,
     "metadata": {},
     "output_type": "execute_result"
    }
   ],
   "source": [
    "model2.wv.most_similar('food', topn=20)"
   ]
  },
  {
   "cell_type": "code",
   "execution_count": 34,
   "id": "631482ce",
   "metadata": {},
   "outputs": [
    {
     "data": {
      "text/plain": [
       "[('food', 0.8692800402641296),\n",
       " ('fillers', 0.797634482383728),\n",
       " ('grain', 0.7904152274131775),\n",
       " ('grainfree', 0.7880670428276062),\n",
       " ('ingredients', 0.7797493934631348),\n",
       " ('grains', 0.7743197083473206),\n",
       " ('canned', 0.7571174502372742),\n",
       " ('wellness', 0.7467617392539978),\n",
       " ('nutrition', 0.7461951971054077),\n",
       " ('feed', 0.7374801635742188),\n",
       " ('merrick', 0.7346622347831726),\n",
       " ('diet', 0.7318775057792664),\n",
       " ('beneful', 0.7303788065910339),\n",
       " ('orijen', 0.7275140285491943),\n",
       " ('meat', 0.7251172065734863),\n",
       " ('iams', 0.7188098430633545),\n",
       " ('nutrience', 0.7018142938613892),\n",
       " ('feeding', 0.7007381916046143),\n",
       " ('ingredient', 0.699956476688385),\n",
       " ('protein', 0.696494996547699)]"
      ]
     },
     "execution_count": 34,
     "metadata": {},
     "output_type": "execute_result"
    }
   ],
   "source": [
    "model2.wv.most_similar('foods', topn=20)"
   ]
  },
  {
   "cell_type": "code",
   "execution_count": 35,
   "id": "2bdbe259",
   "metadata": {},
   "outputs": [
    {
     "data": {
      "text/plain": [
       "[('treats', 0.8853228688240051),\n",
       " ('snack', 0.7166932225227356),\n",
       " ('yummy', 0.6871951818466187),\n",
       " ('cookie', 0.6772376298904419),\n",
       " ('biscuit', 0.6767807602882385),\n",
       " ('tasty', 0.6746256351470947),\n",
       " ('reward', 0.6675986051559448),\n",
       " ('biscuits', 0.6642905473709106),\n",
       " ('snacks', 0.6424245834350586),\n",
       " ('chewy', 0.6350972652435303),\n",
       " ('gobble', 0.6178420186042786),\n",
       " ('rewards', 0.6140649914741516),\n",
       " ('eat', 0.598887026309967),\n",
       " ('jerky', 0.5968141555786133),\n",
       " ('cookies', 0.5890049934387207),\n",
       " ('kibble', 0.5847541093826294),\n",
       " ('meals', 0.584445595741272),\n",
       " ('cheese', 0.5712509751319885),\n",
       " ('everlasting', 0.5704626441001892),\n",
       " ('crunchy', 0.5680918097496033)]"
      ]
     },
     "execution_count": 35,
     "metadata": {},
     "output_type": "execute_result"
    }
   ],
   "source": [
    "model2.wv.most_similar('treat', topn=20)"
   ]
  },
  {
   "cell_type": "code",
   "execution_count": 36,
   "id": "6ec2d373",
   "metadata": {},
   "outputs": [
    {
     "data": {
      "text/plain": [
       "[('treat', 0.8853228092193604),\n",
       " ('snacks', 0.7643217444419861),\n",
       " ('jerky', 0.7474914789199829),\n",
       " ('biscuits', 0.7255536913871765),\n",
       " ('zukes', 0.720252513885498),\n",
       " ('chewy', 0.7146086096763611),\n",
       " ('rewards', 0.6864504814147949),\n",
       " ('cookies', 0.6785171627998352),\n",
       " ('snack', 0.6687939167022705),\n",
       " ('reward', 0.6664339900016785),\n",
       " ('yummy', 0.6650881171226501),\n",
       " ('cookie', 0.6630244851112366),\n",
       " ('flavors', 0.6531779170036316),\n",
       " ('tasty', 0.6515260934829712),\n",
       " ('biscuit', 0.6458814740180969),\n",
       " ('crunchy', 0.6328182220458984),\n",
       " ('gobble', 0.618924081325531),\n",
       " ('chicken', 0.6067973375320435),\n",
       " ('theyre', 0.5947569608688354),\n",
       " ('rawhide', 0.5939079523086548)]"
      ]
     },
     "execution_count": 36,
     "metadata": {},
     "output_type": "execute_result"
    }
   ],
   "source": [
    "model2.wv.most_similar('treats', topn=20)"
   ]
  },
  {
   "cell_type": "markdown",
   "id": "3ed37e71",
   "metadata": {},
   "source": [
    "negative analysis"
   ]
  },
  {
   "cell_type": "code",
   "execution_count": 37,
   "id": "6ea00172",
   "metadata": {},
   "outputs": [
    {
     "data": {
      "text/plain": [
       "[('foods', 0.7935795187950134),\n",
       " ('eat', 0.759955108165741),\n",
       " ('canned', 0.7324330806732178),\n",
       " ('feed', 0.7274497151374817),\n",
       " ('eating', 0.7163506150245667),\n",
       " ('feeding', 0.6877755522727966),\n",
       " ('ingredients', 0.6783859133720398),\n",
       " ('kibble', 0.6718921065330505),\n",
       " ('diet', 0.6695072650909424),\n",
       " ('dry', 0.6651707291603088),\n",
       " ('meat', 0.6629910469055176),\n",
       " ('healthy', 0.6450381278991699),\n",
       " ('protein', 0.6124509572982788),\n",
       " ('picky', 0.6044811606407166),\n",
       " ('purina', 0.6020880937576294),\n",
       " ('taste', 0.595324695110321),\n",
       " ('rice', 0.5921280384063721),\n",
       " ('meal', 0.5915042757987976),\n",
       " ('ingredient', 0.5908777117729187),\n",
       " ('eats', 0.5887546539306641)]"
      ]
     },
     "execution_count": 37,
     "metadata": {},
     "output_type": "execute_result"
    }
   ],
   "source": [
    "model3.wv.most_similar('food', topn=20)"
   ]
  },
  {
   "cell_type": "code",
   "execution_count": 38,
   "id": "93dbc9f8",
   "metadata": {},
   "outputs": [
    {
     "data": {
      "text/plain": [
       "[('food', 0.7935793399810791),\n",
       " ('ingredients', 0.6869500875473022),\n",
       " ('diet', 0.6464149355888367),\n",
       " ('meat', 0.6390653252601624),\n",
       " ('eat', 0.630699634552002),\n",
       " ('feed', 0.6275643706321716),\n",
       " ('fillers', 0.6116236448287964),\n",
       " ('protein', 0.6022401452064514),\n",
       " ('feeding', 0.5930697321891785),\n",
       " ('ingredient', 0.5897696614265442),\n",
       " ('canned', 0.5847381353378296),\n",
       " ('nutritional', 0.5712416768074036),\n",
       " ('grain', 0.5661181211471558),\n",
       " ('corn', 0.5651535987854004),\n",
       " ('buffalo', 0.5589858889579773),\n",
       " ('iams', 0.5515440702438354),\n",
       " ('purina', 0.5494756102561951),\n",
       " ('healthy', 0.5298510193824768),\n",
       " ('chicken', 0.5168180465698242),\n",
       " ('wellness', 0.5123323202133179)]"
      ]
     },
     "execution_count": 38,
     "metadata": {},
     "output_type": "execute_result"
    }
   ],
   "source": [
    "model3.wv.most_similar('foods', topn=20)"
   ]
  },
  {
   "cell_type": "code",
   "execution_count": 39,
   "id": "b2d3f202",
   "metadata": {},
   "outputs": [
    {
     "data": {
      "text/plain": [
       "[('treats', 0.7227009534835815),\n",
       " ('pieces', 0.4935133159160614),\n",
       " ('ate', 0.4756384491920471),\n",
       " ('chicken', 0.4651016294956207),\n",
       " ('ball', 0.45730122923851013),\n",
       " ('wobbler', 0.45381733775138855),\n",
       " ('dispensing', 0.45254477858543396),\n",
       " ('eat', 0.45074668526649475),\n",
       " ('jerky', 0.4486425518989563),\n",
       " ('pill', 0.4478634297847748),\n",
       " ('kibble', 0.44367679953575134),\n",
       " ('pills', 0.43978339433670044),\n",
       " ('chew', 0.4319998323917389),\n",
       " ('food', 0.418098509311676),\n",
       " ('taste', 0.4169834554195404),\n",
       " ('gobbles', 0.41511282324790955),\n",
       " ('flavor', 0.41141778230667114),\n",
       " ('eating', 0.41052180528640747),\n",
       " ('busy', 0.40984612703323364),\n",
       " ('chews', 0.4087029993534088)]"
      ]
     },
     "execution_count": 39,
     "metadata": {},
     "output_type": "execute_result"
    }
   ],
   "source": [
    "model3.wv.most_similar('treat', topn=20)"
   ]
  },
  {
   "cell_type": "code",
   "execution_count": 40,
   "id": "2bda7a03",
   "metadata": {},
   "outputs": [
    {
     "data": {
      "text/plain": [
       "[('treats', 0.7227009534835815),\n",
       " ('pieces', 0.4935133159160614),\n",
       " ('ate', 0.4756384491920471),\n",
       " ('chicken', 0.4651016294956207),\n",
       " ('ball', 0.45730122923851013),\n",
       " ('wobbler', 0.45381733775138855),\n",
       " ('dispensing', 0.45254477858543396),\n",
       " ('eat', 0.45074668526649475),\n",
       " ('jerky', 0.4486425518989563),\n",
       " ('pill', 0.4478634297847748),\n",
       " ('kibble', 0.44367679953575134),\n",
       " ('pills', 0.43978339433670044),\n",
       " ('chew', 0.4319998323917389),\n",
       " ('food', 0.418098509311676),\n",
       " ('taste', 0.4169834554195404),\n",
       " ('gobbles', 0.41511282324790955),\n",
       " ('flavor', 0.41141778230667114),\n",
       " ('eating', 0.41052180528640747),\n",
       " ('busy', 0.40984612703323364),\n",
       " ('chews', 0.4087029993534088)]"
      ]
     },
     "execution_count": 40,
     "metadata": {},
     "output_type": "execute_result"
    }
   ],
   "source": [
    "model3.wv.most_similar('treat', topn=20)"
   ]
  },
  {
   "cell_type": "markdown",
   "id": "f79f1e87",
   "metadata": {},
   "source": [
    "### Picky / Natural"
   ]
  },
  {
   "cell_type": "code",
   "execution_count": 42,
   "id": "bf4f0613",
   "metadata": {},
   "outputs": [
    {
     "data": {
      "text/plain": [
       "[('eater', 0.9080840349197388),\n",
       " ('finicky', 0.849820613861084),\n",
       " ('fussy', 0.7442322373390198),\n",
       " ('eaters', 0.7365965247154236),\n",
       " ('eat', 0.6976345181465149),\n",
       " ('spoiled', 0.6562061309814453),\n",
       " ('eats', 0.6275798678398132),\n",
       " ('taste', 0.6261095404624939),\n",
       " ('pickiest', 0.6056305170059204),\n",
       " ('choosy', 0.6029781103134155),\n",
       " ('tasty', 0.5857393145561218),\n",
       " ('gobbles', 0.5840632915496826),\n",
       " ('gobbled', 0.5733367800712585),\n",
       " ('fussiest', 0.5502135753631592),\n",
       " ('hungry', 0.5496268272399902),\n",
       " ('gobble', 0.5480718612670898),\n",
       " ('food', 0.5473541617393494),\n",
       " ('grainfree', 0.5395007133483887),\n",
       " ('flavors', 0.5388109087944031),\n",
       " ('enthusiastic', 0.5307303667068481)]"
      ]
     },
     "execution_count": 42,
     "metadata": {},
     "output_type": "execute_result"
    }
   ],
   "source": [
    "model.wv.most_similar('picky', topn=20)"
   ]
  },
  {
   "cell_type": "code",
   "execution_count": 43,
   "id": "6ffd9984",
   "metadata": {},
   "outputs": [
    {
     "data": {
      "text/plain": [
       "[('eater', 0.911572277545929),\n",
       " ('finicky', 0.8458439707756042),\n",
       " ('eat', 0.7731696963310242),\n",
       " ('fussy', 0.7532436847686768),\n",
       " ('eaters', 0.7483236789703369),\n",
       " ('eats', 0.7015691995620728),\n",
       " ('gobbled', 0.6721789836883545),\n",
       " ('taste', 0.6599770784378052),\n",
       " ('gobbles', 0.6535977125167847),\n",
       " ('pickiest', 0.6263484954833984),\n",
       " ('spoiled', 0.6232135891914368),\n",
       " ('ate', 0.6152886152267456),\n",
       " ('eating', 0.6107650995254517),\n",
       " ('gobble', 0.6074430346488953),\n",
       " ('tasty', 0.5945934057235718),\n",
       " ('food', 0.5827318429946899),\n",
       " ('healthy', 0.577914297580719),\n",
       " ('grainfree', 0.5679429173469543),\n",
       " ('choosy', 0.5640048384666443),\n",
       " ('wolfs', 0.5638191103935242)]"
      ]
     },
     "execution_count": 43,
     "metadata": {},
     "output_type": "execute_result"
    }
   ],
   "source": [
    "model2.wv.most_similar('picky', topn=20)"
   ]
  },
  {
   "cell_type": "code",
   "execution_count": 44,
   "id": "2c697386",
   "metadata": {},
   "outputs": [
    {
     "data": {
      "text/plain": [
       "[('eater', 0.7930870652198792),\n",
       " ('eat', 0.7044747471809387),\n",
       " ('taste', 0.650315523147583),\n",
       " ('food', 0.6044811010360718),\n",
       " ('eaters', 0.5873652696609497),\n",
       " ('ate', 0.5632535815238953),\n",
       " ('eats', 0.5377950668334961),\n",
       " ('flavor', 0.5298855900764465),\n",
       " ('foods', 0.5101162791252136),\n",
       " ('finicky', 0.5048739910125732),\n",
       " ('healthy', 0.501632571220398),\n",
       " ('treats', 0.49040335416793823),\n",
       " ('fillers', 0.4849452078342438),\n",
       " ('mixed', 0.4758823812007904),\n",
       " ('ingredients', 0.47353291511535645),\n",
       " ('starving', 0.4695036709308624),\n",
       " ('nutrience', 0.45078715682029724),\n",
       " ('gobbles', 0.44890865683555603),\n",
       " ('eating', 0.4449794590473175),\n",
       " ('chicken', 0.44218993186950684)]"
      ]
     },
     "execution_count": 44,
     "metadata": {},
     "output_type": "execute_result"
    }
   ],
   "source": [
    "model3.wv.most_similar('picky', topn=20)"
   ]
  },
  {
   "cell_type": "code",
   "execution_count": 45,
   "id": "e7c6d300",
   "metadata": {},
   "outputs": [
    {
     "data": {
      "text/plain": [
       "[('balance', 0.6889117360115051),\n",
       " ('organic', 0.6628136038780212),\n",
       " ('ingredients', 0.6325050592422485),\n",
       " ('chicken', 0.623913586139679),\n",
       " ('potato', 0.6183066368103027),\n",
       " ('healthy', 0.614600658416748),\n",
       " ('flavor', 0.608206570148468),\n",
       " ('wholesome', 0.5990267992019653),\n",
       " ('flavors', 0.5888931155204773),\n",
       " ('grain', 0.5830900073051453),\n",
       " ('usa', 0.5816531181335449),\n",
       " ('buffalo', 0.5807489156723022),\n",
       " ('sweet', 0.572650671005249),\n",
       " ('preservatives', 0.5655688047409058),\n",
       " ('additives', 0.5617082118988037),\n",
       " ('ingredient', 0.561089813709259),\n",
       " ('glycerin', 0.5583880543708801),\n",
       " ('grainfree', 0.554515540599823),\n",
       " ('salmon', 0.5540083050727844),\n",
       " ('beef', 0.5533477663993835)]"
      ]
     },
     "execution_count": 45,
     "metadata": {},
     "output_type": "execute_result"
    }
   ],
   "source": [
    "model.wv.most_similar('natural', topn=20)"
   ]
  },
  {
   "cell_type": "code",
   "execution_count": 46,
   "id": "4bd48242",
   "metadata": {},
   "outputs": [
    {
     "data": {
      "text/plain": [
       "[('balance', 0.7100272178649902),\n",
       " ('ingredients', 0.7075007557868958),\n",
       " ('flavor', 0.6799308657646179),\n",
       " ('potato', 0.6750964522361755),\n",
       " ('chicken', 0.6642512083053589),\n",
       " ('sweet', 0.6508201360702515),\n",
       " ('organic', 0.6505460143089294),\n",
       " ('healthy', 0.6395396590232849),\n",
       " ('lamb', 0.6380025148391724),\n",
       " ('flavors', 0.6330626606941223),\n",
       " ('preservatives', 0.6227522492408752),\n",
       " ('flaxseed', 0.6160051226615906),\n",
       " ('grain', 0.61567622423172),\n",
       " ('potatoes', 0.6146762371063232),\n",
       " ('wholesome', 0.6140703558921814),\n",
       " ('ingredient', 0.6107029318809509),\n",
       " ('salmon', 0.6089359521865845),\n",
       " ('barley', 0.6084109544754028),\n",
       " ('preservative', 0.6043573021888733),\n",
       " ('tocopherols', 0.6000850200653076)]"
      ]
     },
     "execution_count": 46,
     "metadata": {},
     "output_type": "execute_result"
    }
   ],
   "source": [
    "model2.wv.most_similar('natural', topn=20)"
   ]
  },
  {
   "cell_type": "code",
   "execution_count": 47,
   "id": "8fb5e6dd",
   "metadata": {},
   "outputs": [
    {
     "data": {
      "text/plain": [
       "[('ingredients', 0.5450870990753174),\n",
       " ('balance', 0.5251742601394653),\n",
       " ('wellness', 0.522375762462616),\n",
       " ('pets', 0.5213842391967773),\n",
       " ('beef', 0.5065630674362183),\n",
       " ('foods', 0.5028254985809326),\n",
       " ('fillers', 0.4873361885547638),\n",
       " ('list', 0.4772399067878723),\n",
       " ('diet', 0.47144606709480286),\n",
       " ('contain', 0.4614928662776947),\n",
       " ('buffalo', 0.4527813792228699),\n",
       " ('dry', 0.4493190050125122),\n",
       " ('feed', 0.4434165954589844),\n",
       " ('look', 0.4433149993419647),\n",
       " ('protein', 0.43909040093421936),\n",
       " ('food', 0.43844175338745117),\n",
       " ('brands', 0.43836072087287903),\n",
       " ('halo', 0.4375450313091278),\n",
       " ('chemicals', 0.4336388409137726),\n",
       " ('ingredient', 0.42819371819496155)]"
      ]
     },
     "execution_count": 47,
     "metadata": {},
     "output_type": "execute_result"
    }
   ],
   "source": [
    "model3.wv.most_similar('natural', topn=20)"
   ]
  },
  {
   "cell_type": "markdown",
   "id": "fee78883",
   "metadata": {},
   "source": [
    "## Fillers"
   ]
  },
  {
   "cell_type": "code",
   "execution_count": 48,
   "id": "ea2df939",
   "metadata": {},
   "outputs": [
    {
     "data": {
      "text/plain": [
       "[('corn', 0.7124922871589661),\n",
       " ('fillers', 0.702812671661377),\n",
       " ('grains', 0.6680629849433899),\n",
       " ('soy', 0.6601722836494446),\n",
       " ('byproduct', 0.6550597548484802),\n",
       " ('protein', 0.6462144255638123),\n",
       " ('ingredient', 0.6385401487350464),\n",
       " ('soybean', 0.6084488034248352),\n",
       " ('byproducts', 0.6074325442314148),\n",
       " ('meat', 0.6067602038383484),\n",
       " ('ingredients', 0.5969862341880798),\n",
       " ('grain', 0.5929713249206543),\n",
       " ('gluten', 0.589788019657135),\n",
       " ('wheat', 0.5814827680587769),\n",
       " ('lowquality', 0.574392557144165),\n",
       " ('proteins', 0.5694759488105774),\n",
       " ('rice', 0.5639914870262146),\n",
       " ('nutrients', 0.5618405938148499),\n",
       " ('foods', 0.5584357976913452),\n",
       " ('carbohydrates', 0.5374677181243896)]"
      ]
     },
     "execution_count": 48,
     "metadata": {},
     "output_type": "execute_result"
    }
   ],
   "source": [
    "model.wv.most_similar('filler', topn=20)"
   ]
  },
  {
   "cell_type": "code",
   "execution_count": 49,
   "id": "3531a8aa",
   "metadata": {},
   "outputs": [
    {
     "data": {
      "text/plain": [
       "[('corn', 0.7782275080680847),\n",
       " ('fillers', 0.7534072995185852),\n",
       " ('grains', 0.7200384140014648),\n",
       " ('soy', 0.6813739538192749),\n",
       " ('ingredient', 0.6792637705802917),\n",
       " ('byproduct', 0.6751997470855713),\n",
       " ('ingredients', 0.6624534130096436),\n",
       " ('wheat', 0.6549007892608643),\n",
       " ('byproducts', 0.6509504318237305),\n",
       " ('grain', 0.6390792727470398),\n",
       " ('protein', 0.6366338133811951),\n",
       " ('gluten', 0.6309205889701843),\n",
       " ('meat', 0.6277999877929688),\n",
       " ('rice', 0.6252666711807251),\n",
       " ('foods', 0.6219731569290161),\n",
       " ('soybean', 0.6191855669021606),\n",
       " ('nutritional', 0.6157078146934509),\n",
       " ('list', 0.6087473630905151),\n",
       " ('nutrition', 0.6083964705467224),\n",
       " ('carnivores', 0.5908870697021484)]"
      ]
     },
     "execution_count": 49,
     "metadata": {},
     "output_type": "execute_result"
    }
   ],
   "source": [
    "model2.wv.most_similar('filler', topn=20)"
   ]
  },
  {
   "cell_type": "code",
   "execution_count": 50,
   "id": "2f97e5b9",
   "metadata": {},
   "outputs": [
    {
     "data": {
      "text/plain": [
       "[('corn', 0.5375863313674927),\n",
       " ('ingredient', 0.496436208486557),\n",
       " ('foods', 0.4683459401130676),\n",
       " ('rice', 0.4642447233200073),\n",
       " ('meat', 0.460557222366333),\n",
       " ('soybean', 0.4597930312156677),\n",
       " ('inferior', 0.45653223991394043),\n",
       " ('byproduct', 0.4351806044578552),\n",
       " ('protein', 0.4258860647678375),\n",
       " ('quality', 0.4146798551082611),\n",
       " ('soy', 0.41371530294418335),\n",
       " ('gluten', 0.41182753443717957),\n",
       " ('grain', 0.4060681164264679),\n",
       " ('food', 0.4021834135055542),\n",
       " ('meal', 0.4004892110824585),\n",
       " ('main', 0.3926188349723816),\n",
       " ('grains', 0.39124155044555664),\n",
       " ('basically', 0.39015573263168335),\n",
       " ('digest', 0.3851335048675537),\n",
       " ('sugar', 0.3845323920249939)]"
      ]
     },
     "execution_count": 50,
     "metadata": {},
     "output_type": "execute_result"
    }
   ],
   "source": [
    "model3.wv.most_similar('filler', topn=20)"
   ]
  },
  {
   "cell_type": "code",
   "execution_count": 51,
   "id": "7d5fa620",
   "metadata": {},
   "outputs": [
    {
     "data": {
      "text/plain": [
       "[('grains', 0.8142902255058289),\n",
       " ('ingredients', 0.808929443359375),\n",
       " ('corn', 0.7744516134262085),\n",
       " ('preservatives', 0.744913637638092),\n",
       " ('byproducts', 0.7310333251953125),\n",
       " ('soy', 0.7239614129066467),\n",
       " ('wholesome', 0.721039891242981),\n",
       " ('foods', 0.7178388833999634),\n",
       " ('grain', 0.7127841711044312),\n",
       " ('meat', 0.7036253213882446),\n",
       " ('filler', 0.702812671661377),\n",
       " ('wheat', 0.6976709961891174),\n",
       " ('protein', 0.6928551197052002),\n",
       " ('additives', 0.6905094981193542),\n",
       " ('ingredient', 0.6824844479560852),\n",
       " ('nutrition', 0.6706351637840271),\n",
       " ('nutritious', 0.6663877367973328),\n",
       " ('meats', 0.6632387638092041),\n",
       " ('artificial', 0.649552047252655),\n",
       " ('list', 0.649077832698822)]"
      ]
     },
     "execution_count": 51,
     "metadata": {},
     "output_type": "execute_result"
    }
   ],
   "source": [
    "model.wv.most_similar('fillers', topn=20)"
   ]
  },
  {
   "cell_type": "code",
   "execution_count": 52,
   "id": "b130d364",
   "metadata": {},
   "outputs": [
    {
     "data": {
      "text/plain": [
       "[('grains', 0.8477746248245239),\n",
       " ('ingredients', 0.8409701585769653),\n",
       " ('corn', 0.8204420804977417),\n",
       " ('foods', 0.7976343631744385),\n",
       " ('byproducts', 0.7892085909843445),\n",
       " ('grain', 0.7721505165100098),\n",
       " ('soy', 0.7617688179016113),\n",
       " ('ingredient', 0.7581872344017029),\n",
       " ('preservatives', 0.7565178871154785),\n",
       " ('nutrition', 0.753687858581543),\n",
       " ('filler', 0.7534072399139404),\n",
       " ('wheat', 0.747070848941803),\n",
       " ('meat', 0.7461850643157959),\n",
       " ('additives', 0.7438604831695557),\n",
       " ('protein', 0.7435842156410217),\n",
       " ('wholesome', 0.7356630563735962),\n",
       " ('healthy', 0.70938640832901),\n",
       " ('nutritious', 0.6994346380233765),\n",
       " ('list', 0.697057843208313),\n",
       " ('nutritional', 0.6944507956504822)]"
      ]
     },
     "execution_count": 52,
     "metadata": {},
     "output_type": "execute_result"
    }
   ],
   "source": [
    "model2.wv.most_similar('fillers', topn=20)"
   ]
  },
  {
   "cell_type": "code",
   "execution_count": 53,
   "id": "2f4eadc1",
   "metadata": {},
   "outputs": [
    {
     "data": {
      "text/plain": [
       "[('foods', 0.6116235852241516),\n",
       " ('ingredients', 0.588552713394165),\n",
       " ('corn', 0.5866144299507141),\n",
       " ('meat', 0.5771636366844177),\n",
       " ('food', 0.5693346858024597),\n",
       " ('protein', 0.5649721622467041),\n",
       " ('grain', 0.5385684370994568),\n",
       " ('iams', 0.5357886552810669),\n",
       " ('purina', 0.5201033353805542),\n",
       " ('contain', 0.5133852362632751),\n",
       " ('chicken', 0.5066587924957275),\n",
       " ('eat', 0.5056341886520386),\n",
       " ('canned', 0.500314474105835),\n",
       " ('real', 0.4923385977745056),\n",
       " ('ingredient', 0.49139881134033203),\n",
       " ('natural', 0.4873361587524414),\n",
       " ('wellness', 0.4872751235961914),\n",
       " ('healthy', 0.48691484332084656),\n",
       " ('picky', 0.48494526743888855),\n",
       " ('byproducts', 0.4812709391117096)]"
      ]
     },
     "execution_count": 53,
     "metadata": {},
     "output_type": "execute_result"
    }
   ],
   "source": [
    "model3.wv.most_similar('fillers', topn=20)"
   ]
  },
  {
   "cell_type": "markdown",
   "id": "299121cf",
   "metadata": {},
   "source": [
    "## Treat / Snacks Categories"
   ]
  },
  {
   "cell_type": "markdown",
   "id": "6fd64f1c",
   "metadata": {},
   "source": [
    "### Jerky"
   ]
  },
  {
   "cell_type": "code",
   "execution_count": 58,
   "id": "9c8e830e",
   "metadata": {},
   "outputs": [
    {
     "data": {
      "text/plain": [
       "[('chicken', 0.7186856865882874),\n",
       " ('treats', 0.710914134979248),\n",
       " ('tenders', 0.6927472352981567),\n",
       " ('waggin', 0.6671656370162964),\n",
       " ('smoky', 0.656883955001831),\n",
       " ('strips', 0.6406774520874023),\n",
       " ('beef', 0.6259176731109619),\n",
       " ('cadet', 0.6183832287788391),\n",
       " ('snacks', 0.6071378588676453),\n",
       " ('duos', 0.5981952548027039),\n",
       " ('breasts', 0.592742383480072),\n",
       " ('rawhide', 0.5904959440231323),\n",
       " ('china', 0.5873726606369019),\n",
       " ('chewy', 0.5749291777610779),\n",
       " ('jerkey', 0.574255645275116),\n",
       " ('duck', 0.5380277037620544),\n",
       " ('usa', 0.5331942439079285),\n",
       " ('potato', 0.5323811173439026),\n",
       " ('smokehouse', 0.5307361483573914),\n",
       " ('meat', 0.5291889309883118)]"
      ]
     },
     "execution_count": 58,
     "metadata": {},
     "output_type": "execute_result"
    }
   ],
   "source": [
    "model.wv.most_similar('jerky', topn=20)"
   ]
  },
  {
   "cell_type": "code",
   "execution_count": 59,
   "id": "ffd23dfc",
   "metadata": {},
   "outputs": [
    {
     "data": {
      "text/plain": [
       "[('tenders', 0.7495152950286865),\n",
       " ('waggin', 0.7488663196563721),\n",
       " ('treats', 0.7474915385246277),\n",
       " ('chicken', 0.7139768600463867),\n",
       " ('smoky', 0.7043585777282715),\n",
       " ('snacks', 0.6704889535903931),\n",
       " ('strips', 0.6692102551460266),\n",
       " ('china', 0.6396634578704834),\n",
       " ('duos', 0.6276096105575562),\n",
       " ('jerkey', 0.6222936511039734),\n",
       " ('breast', 0.6202914714813232),\n",
       " ('treat', 0.5968142747879028),\n",
       " ('dogswell', 0.5962856411933899),\n",
       " ('chewy', 0.596245527267456),\n",
       " ('fillets', 0.5774305462837219),\n",
       " ('milos', 0.5768712162971497),\n",
       " ('rawhide', 0.5762647390365601),\n",
       " ('smokehouse', 0.573754072189331),\n",
       " ('grillers', 0.5728753805160522),\n",
       " ('usa', 0.5698317289352417)]"
      ]
     },
     "execution_count": 59,
     "metadata": {},
     "output_type": "execute_result"
    }
   ],
   "source": [
    "model2.wv.most_similar('jerky', topn=20)"
   ]
  },
  {
   "cell_type": "code",
   "execution_count": 60,
   "id": "d3bd583f",
   "metadata": {},
   "outputs": [
    {
     "data": {
      "text/plain": [
       "[('chicken', 0.6859675645828247),\n",
       " ('treats', 0.6270608305931091),\n",
       " ('china', 0.5938063859939575),\n",
       " ('fda', 0.5775534510612488),\n",
       " ('beef', 0.4734639823436737),\n",
       " ('chinese', 0.46826955676078796),\n",
       " ('waggin', 0.4663146138191223),\n",
       " ('strips', 0.4624769985675812),\n",
       " ('veterinarians', 0.457763135433197),\n",
       " ('squares', 0.4536832869052887),\n",
       " ('products', 0.4519389569759369),\n",
       " ('meat', 0.4513415992259979),\n",
       " ('treat', 0.44864246249198914),\n",
       " ('consumers', 0.4404214918613434),\n",
       " ('illness', 0.4361491799354553),\n",
       " ('usa', 0.420879989862442),\n",
       " ('ingredients', 0.41956856846809387),\n",
       " ('bones', 0.41576993465423584),\n",
       " ('reports', 0.41448619961738586),\n",
       " ('pricey', 0.4143884479999542)]"
      ]
     },
     "execution_count": 60,
     "metadata": {},
     "output_type": "execute_result"
    }
   ],
   "source": [
    "model3.wv.most_similar('jerky', topn=20)"
   ]
  },
  {
   "cell_type": "markdown",
   "id": "c589dc88",
   "metadata": {},
   "source": [
    "### Biscuits"
   ]
  },
  {
   "cell_type": "code",
   "execution_count": 61,
   "id": "c33c8ba2",
   "metadata": {},
   "outputs": [
    {
     "data": {
      "text/plain": [
       "[('cookies', 0.7902782559394836),\n",
       " ('biscuit', 0.7629588842391968),\n",
       " ('treats', 0.747494101524353),\n",
       " ('crunchy', 0.6858725547790527),\n",
       " ('snacks', 0.6726858615875244),\n",
       " ('chewy', 0.636195182800293),\n",
       " ('milkbones', 0.6329897046089172),\n",
       " ('treat', 0.6210342049598694),\n",
       " ('cookie', 0.6162014603614807),\n",
       " ('milk', 0.5860077142715454),\n",
       " ('snack', 0.5760372281074524),\n",
       " ('bones', 0.5758284330368042),\n",
       " ('bakery', 0.5716187357902527),\n",
       " ('baked', 0.5426074862480164),\n",
       " ('yummy', 0.5394496917724609),\n",
       " ('hubbard', 0.5389708280563354),\n",
       " ('milkbone', 0.5366328358650208),\n",
       " ('kibble', 0.53483647108078),\n",
       " ('rawhide', 0.521557629108429),\n",
       " ('morsels', 0.5086171627044678)]"
      ]
     },
     "execution_count": 61,
     "metadata": {},
     "output_type": "execute_result"
    }
   ],
   "source": [
    "model.wv.most_similar('biscuits', topn=20)"
   ]
  },
  {
   "cell_type": "code",
   "execution_count": 62,
   "id": "c8c3920a",
   "metadata": {},
   "outputs": [
    {
     "data": {
      "text/plain": [
       "[('biscuit', 0.8034099340438843),\n",
       " ('cookies', 0.7723483443260193),\n",
       " ('treats', 0.7255537509918213),\n",
       " ('crunchy', 0.6879461407661438),\n",
       " ('cookie', 0.6864542961120605),\n",
       " ('treat', 0.6642906665802002),\n",
       " ('snacks', 0.6447066068649292),\n",
       " ('chewy', 0.6361777186393738),\n",
       " ('milkbones', 0.6289840936660767),\n",
       " ('bakery', 0.6140360832214355),\n",
       " ('crunch', 0.5929328799247742),\n",
       " ('snack', 0.584019124507904),\n",
       " ('bones', 0.5790981650352478),\n",
       " ('milk', 0.5784792304039001),\n",
       " ('milkbone', 0.5567546486854553),\n",
       " ('scored', 0.5547945499420166),\n",
       " ('meaty', 0.5448763370513916),\n",
       " ('flavor', 0.5384538769721985),\n",
       " ('molasses', 0.5306219458580017),\n",
       " ('break', 0.5281450152397156)]"
      ]
     },
     "execution_count": 62,
     "metadata": {},
     "output_type": "execute_result"
    }
   ],
   "source": [
    "model2.wv.most_similar('biscuits', topn=20)"
   ]
  },
  {
   "cell_type": "code",
   "execution_count": 63,
   "id": "4f51400c",
   "metadata": {},
   "outputs": [
    {
     "data": {
      "text/plain": [
       "[('biscuit', 0.4416848421096802),\n",
       " ('treats', 0.4310494363307953),\n",
       " ('bone', 0.42733341455459595),\n",
       " ('pieces', 0.41240954399108887),\n",
       " ('treat', 0.38039153814315796),\n",
       " ('starving', 0.3801237642765045),\n",
       " ('rawhide', 0.3771841824054718),\n",
       " ('oven', 0.3767895996570587),\n",
       " ('rawhides', 0.3761264979839325),\n",
       " ('squares', 0.3731689155101776),\n",
       " ('dry', 0.3688295781612396),\n",
       " ('jerky', 0.36798861622810364),\n",
       " ('chews', 0.367865651845932),\n",
       " ('requested', 0.3632795512676239),\n",
       " ('bones', 0.362801194190979),\n",
       " ('crunchy', 0.3614531457424164),\n",
       " ('kibble', 0.36107200384140015),\n",
       " ('eat', 0.35988739132881165),\n",
       " ('tablets', 0.3585483133792877),\n",
       " ('stale', 0.3578472137451172)]"
      ]
     },
     "execution_count": 63,
     "metadata": {},
     "output_type": "execute_result"
    }
   ],
   "source": [
    "model3.wv.most_similar('biscuits', topn=20)"
   ]
  },
  {
   "cell_type": "code",
   "execution_count": 64,
   "id": "2ee845e6",
   "metadata": {},
   "outputs": [
    {
     "data": {
      "text/plain": [
       "[('biscuits', 0.6329896450042725),\n",
       " ('snacks', 0.5928197503089905),\n",
       " ('biscuit', 0.5637331008911133),\n",
       " ('milk', 0.5576505661010742),\n",
       " ('cookies', 0.5101789832115173),\n",
       " ('treats', 0.5100104212760925),\n",
       " ('charlee', 0.4947792887687683),\n",
       " ('chewy', 0.4942937195301056),\n",
       " ('crunchy', 0.48718947172164917),\n",
       " ('bones', 0.4748634397983551),\n",
       " ('jims', 0.4723586440086365),\n",
       " ('milkbone', 0.4591394066810608),\n",
       " ('breasts', 0.45291033387184143),\n",
       " ('rawhide', 0.44437891244888306),\n",
       " ('meaty', 0.4363846480846405),\n",
       " ('hardened', 0.43049517273902893),\n",
       " ('crumbs', 0.4300857186317444),\n",
       " ('chops', 0.42814570665359497),\n",
       " ('rewards', 0.4281453788280487),\n",
       " ('plato', 0.42650678753852844)]"
      ]
     },
     "execution_count": 64,
     "metadata": {},
     "output_type": "execute_result"
    }
   ],
   "source": [
    "model.wv.most_similar('milkbones', topn=20)"
   ]
  },
  {
   "cell_type": "code",
   "execution_count": 65,
   "id": "20b37ea1",
   "metadata": {},
   "outputs": [
    {
     "data": {
      "text/plain": [
       "[('biscuits', 0.6289840340614319),\n",
       " ('treats', 0.5903326869010925),\n",
       " ('snacks', 0.580462634563446),\n",
       " ('milk', 0.5758911371231079),\n",
       " ('milkbone', 0.5519388914108276),\n",
       " ('cookies', 0.540580153465271),\n",
       " ('chewy', 0.539876401424408),\n",
       " ('biscuit', 0.5302101373672485),\n",
       " ('crunchy', 0.5037558078765869),\n",
       " ('rawhide', 0.4956566393375397),\n",
       " ('rewards', 0.4893624782562256),\n",
       " ('treat', 0.4886365234851837),\n",
       " ('meaty', 0.4803413152694702),\n",
       " ('bones', 0.46482551097869873),\n",
       " ('healthful', 0.4647068977355957),\n",
       " ('jerky', 0.4645077884197235),\n",
       " ('charlee', 0.46285557746887207),\n",
       " ('greedy', 0.4509337246417999),\n",
       " ('jar', 0.4476279318332672),\n",
       " ('jims', 0.4439080059528351)]"
      ]
     },
     "execution_count": 65,
     "metadata": {},
     "output_type": "execute_result"
    }
   ],
   "source": [
    "model2.wv.most_similar('milkbones', topn=20)"
   ]
  },
  {
   "cell_type": "code",
   "execution_count": 67,
   "id": "b3a881ad",
   "metadata": {},
   "outputs": [
    {
     "data": {
      "text/plain": [
       "[('nuggets', 0.6043952703475952),\n",
       " ('bits', 0.5677723288536072),\n",
       " ('kibbles', 0.5638396143913269),\n",
       " ('chunks', 0.5504471659660339),\n",
       " ('kibble', 0.5440806746482849),\n",
       " ('pieces', 0.5394648909568787),\n",
       " ('crunchy', 0.5260812640190125),\n",
       " ('treats', 0.521003246307373),\n",
       " ('snack', 0.5148374438285828),\n",
       " ('enthusiasm', 0.5123828053474426),\n",
       " ('biscuit', 0.5098402500152588),\n",
       " ('biscuits', 0.508617103099823),\n",
       " ('wolfed', 0.5082128643989563),\n",
       " ('crunch', 0.49253565073013306),\n",
       " ('moist', 0.4899935722351074),\n",
       " ('chewy', 0.48734062910079956),\n",
       " ('peas', 0.48698917031288147),\n",
       " ('cookies', 0.4844934046268463),\n",
       " ('crumbly', 0.48416459560394287),\n",
       " ('treat', 0.48392167687416077)]"
      ]
     },
     "execution_count": 67,
     "metadata": {},
     "output_type": "execute_result"
    }
   ],
   "source": [
    "model.wv.most_similar('morsels', topn=20)"
   ]
  },
  {
   "cell_type": "code",
   "execution_count": 68,
   "id": "31e12b64",
   "metadata": {},
   "outputs": [
    {
     "data": {
      "text/plain": [
       "[('biscuits', 0.7902781367301941),\n",
       " ('treats', 0.6912108063697815),\n",
       " ('cookie', 0.6845843195915222),\n",
       " ('biscuit', 0.6505856513977051),\n",
       " ('chewy', 0.631899893283844),\n",
       " ('crunchy', 0.6161506772041321),\n",
       " ('treat', 0.6005009412765503),\n",
       " ('snacks', 0.5860210061073303),\n",
       " ('fruitables', 0.563111424446106),\n",
       " ('snack', 0.5609734058380127),\n",
       " ('bones', 0.5414084792137146),\n",
       " ('bakery', 0.5299862623214722),\n",
       " ('baked', 0.5277833938598633),\n",
       " ('banana', 0.52531898021698),\n",
       " ('milkbones', 0.5101791024208069),\n",
       " ('milkbone', 0.506131112575531),\n",
       " ('rewards', 0.5012664794921875),\n",
       " ('tidbits', 0.4944799542427063),\n",
       " ('yummy', 0.4942704141139984),\n",
       " ('treatsthey', 0.4942314922809601)]"
      ]
     },
     "execution_count": 68,
     "metadata": {},
     "output_type": "execute_result"
    }
   ],
   "source": [
    "model.wv.most_similar('cookies', topn=20)"
   ]
  },
  {
   "cell_type": "code",
   "execution_count": 69,
   "id": "95d8b793",
   "metadata": {},
   "outputs": [
    {
     "data": {
      "text/plain": [
       "[('biscuits', 0.7723482847213745),\n",
       " ('cookie', 0.7530904412269592),\n",
       " ('treats', 0.6785171031951904),\n",
       " ('snacks', 0.6246927976608276),\n",
       " ('chewy', 0.6200154423713684),\n",
       " ('crunchy', 0.617546558380127),\n",
       " ('biscuit', 0.6128039360046387),\n",
       " ('snack', 0.6115261912345886),\n",
       " ('treat', 0.5890049338340759),\n",
       " ('bones', 0.5847373604774475),\n",
       " ('bakery', 0.5838213562965393),\n",
       " ('banana', 0.5657821297645569),\n",
       " ('molasses', 0.5554957985877991),\n",
       " ('bakes', 0.5500888824462891),\n",
       " ('milkbones', 0.540580153465271),\n",
       " ('treatsthey', 0.535377025604248),\n",
       " ('recipes', 0.5185942053794861),\n",
       " ('bake', 0.5155441761016846),\n",
       " ('recipe', 0.5138152837753296),\n",
       " ('fruitables', 0.5137414336204529)]"
      ]
     },
     "execution_count": 69,
     "metadata": {},
     "output_type": "execute_result"
    }
   ],
   "source": [
    "model2.wv.most_similar('cookies', topn=20)"
   ]
  },
  {
   "cell_type": "code",
   "execution_count": 70,
   "id": "b4ddd458",
   "metadata": {},
   "outputs": [
    {
     "data": {
      "text/plain": [
       "[('cookie', 0.5270958542823792),\n",
       " ('btw', 0.37819966673851013),\n",
       " ('tricky', 0.3656276762485504),\n",
       " ('oven', 0.36528003215789795),\n",
       " ('gunk', 0.3648127317428589),\n",
       " ('papillon', 0.35424715280532837),\n",
       " ('willingly', 0.35095277428627014),\n",
       " ('kongs', 0.3508882522583008),\n",
       " ('peanut', 0.34400856494903564),\n",
       " ('oatmeal', 0.3415713608264923),\n",
       " ('excess', 0.34130004048347473),\n",
       " ('recipe', 0.34118252992630005),\n",
       " ('blah', 0.3411255180835724),\n",
       " ('gobbled', 0.3383600413799286),\n",
       " ('flour', 0.33663663268089294),\n",
       " ('snack', 0.33655279874801636),\n",
       " ('gourmet', 0.33266890048980713),\n",
       " ('butter', 0.329696923494339),\n",
       " ('organic', 0.32831940054893494),\n",
       " ('instruction', 0.32818159461021423)]"
      ]
     },
     "execution_count": 70,
     "metadata": {},
     "output_type": "execute_result"
    }
   ],
   "source": [
    "model3.wv.most_similar('cookies', topn=20)"
   ]
  },
  {
   "cell_type": "markdown",
   "id": "85372190",
   "metadata": {},
   "source": [
    "### Kibbles"
   ]
  },
  {
   "cell_type": "code",
   "execution_count": 71,
   "id": "a7dba89f",
   "metadata": {},
   "outputs": [
    {
     "data": {
      "text/plain": [
       "[('kibble', 0.8368427753448486),\n",
       " ('food', 0.699568510055542),\n",
       " ('bits', 0.5962845683097839),\n",
       " ('beneful', 0.5838736295700073),\n",
       " ('foods', 0.5808774828910828),\n",
       " ('treats', 0.5785185098648071),\n",
       " ('crunchy', 0.5758960843086243),\n",
       " ('canned', 0.5665578246116638),\n",
       " ('chunks', 0.5638642907142639),\n",
       " ('morsels', 0.5638396739959717),\n",
       " ('veggies', 0.5569531321525574),\n",
       " ('meals', 0.5551511645317078),\n",
       " ('nuggets', 0.5526646375656128),\n",
       " ('nutrience', 0.5339528918266296),\n",
       " ('iams', 0.5283448696136475),\n",
       " ('feed', 0.5266910791397095),\n",
       " ('eats', 0.5258256793022156),\n",
       " ('orijen', 0.5155794024467468),\n",
       " ('peas', 0.510789692401886),\n",
       " ('treat', 0.5107108950614929)]"
      ]
     },
     "execution_count": 71,
     "metadata": {},
     "output_type": "execute_result"
    }
   ],
   "source": [
    "model.wv.most_similar('kibbles', topn=20)"
   ]
  },
  {
   "cell_type": "code",
   "execution_count": 72,
   "id": "75646454",
   "metadata": {},
   "outputs": [
    {
     "data": {
      "text/plain": [
       "[('kibble', 0.8559626340866089),\n",
       " ('food', 0.7466189861297607),\n",
       " ('meals', 0.6490556597709656),\n",
       " ('eats', 0.6050646901130676),\n",
       " ('foods', 0.6011647582054138),\n",
       " ('eating', 0.5994512438774109),\n",
       " ('eat', 0.596914529800415),\n",
       " ('bits', 0.5936623811721802),\n",
       " ('canned', 0.5917766094207764),\n",
       " ('feed', 0.5912400484085083),\n",
       " ('beneful', 0.5905821919441223),\n",
       " ('gobble', 0.5840956568717957),\n",
       " ('orijen', 0.5838569402694702),\n",
       " ('nutrience', 0.5826142430305481),\n",
       " ('morsels', 0.5800125598907471),\n",
       " ('treats', 0.5710983276367188),\n",
       " ('meal', 0.5693061947822571),\n",
       " ('gobbles', 0.5688374042510986),\n",
       " ('peas', 0.56569904088974),\n",
       " ('mixing', 0.5597241520881653)]"
      ]
     },
     "execution_count": 72,
     "metadata": {},
     "output_type": "execute_result"
    }
   ],
   "source": [
    "model2.wv.most_similar('kibbles', topn=20)"
   ]
  },
  {
   "cell_type": "code",
   "execution_count": 73,
   "id": "a6f8ffad",
   "metadata": {},
   "outputs": [
    {
     "data": {
      "text/plain": [
       "[('kibble', 0.48497894406318665),\n",
       " ('food', 0.48148128390312195),\n",
       " ('eat', 0.4677989184856415),\n",
       " ('treats', 0.45335906744003296),\n",
       " ('foods', 0.4253891408443451),\n",
       " ('nutrition', 0.4181872010231018),\n",
       " ('canned', 0.41546234488487244),\n",
       " ('ate', 0.4087250232696533),\n",
       " ('corn', 0.40528517961502075),\n",
       " ('beneful', 0.3954470157623291),\n",
       " ('chef', 0.3889179527759552),\n",
       " ('michaels', 0.38454771041870117),\n",
       " ('meat', 0.3794638514518738),\n",
       " ('dogfood', 0.37879055738449097),\n",
       " ('ingredients', 0.3786521852016449),\n",
       " ('colorful', 0.37824171781539917),\n",
       " ('mediumlarge', 0.3779034912586212),\n",
       " ('potato', 0.37589502334594727),\n",
       " ('scraps', 0.37179651856422424),\n",
       " ('list', 0.37171512842178345)]"
      ]
     },
     "execution_count": 73,
     "metadata": {},
     "output_type": "execute_result"
    }
   ],
   "source": [
    "model3.wv.most_similar('kibbles', topn=20)"
   ]
  },
  {
   "cell_type": "code",
   "execution_count": 74,
   "id": "7764ca26",
   "metadata": {},
   "outputs": [
    {
     "data": {
      "text/plain": [
       "[('morsels', 0.6043952703475952),\n",
       " ('kibble', 0.5904183983802795),\n",
       " ('wolfed', 0.5644071698188782),\n",
       " ('kibbles', 0.5526646971702576),\n",
       " ('chunks', 0.5389617681503296),\n",
       " ('freezedried', 0.5281797647476196),\n",
       " ('pieces', 0.5268405079841614),\n",
       " ('patties', 0.5165346264839172),\n",
       " ('bits', 0.5050244927406311),\n",
       " ('crumbled', 0.5036123991012573),\n",
       " ('grilled', 0.49894028902053833),\n",
       " ('biscuit', 0.48951104283332825),\n",
       " ('tasty', 0.4878920614719391),\n",
       " ('meat', 0.48468369245529175),\n",
       " ('crunchy', 0.4811827838420868),\n",
       " ('nutrience', 0.4799306094646454),\n",
       " ('food', 0.4776500165462494),\n",
       " ('gobbled', 0.4771190285682678),\n",
       " ('sirloin', 0.4724757671356201),\n",
       " ('michaels', 0.46960413455963135)]"
      ]
     },
     "execution_count": 74,
     "metadata": {},
     "output_type": "execute_result"
    }
   ],
   "source": [
    "model.wv.most_similar('nuggets', topn=20)"
   ]
  },
  {
   "cell_type": "markdown",
   "id": "b3f94092",
   "metadata": {},
   "source": [
    "### Bones"
   ]
  },
  {
   "cell_type": "code",
   "execution_count": 21,
   "id": "ea8ad812",
   "metadata": {
    "scrolled": true
   },
   "outputs": [
    {
     "data": {
      "text/plain": [
       "[('bones', 0.8158198595046997),\n",
       " ('nylabone', 0.6984532475471497),\n",
       " ('rawhide', 0.6634682416915894),\n",
       " ('chew', 0.622154176235199),\n",
       " ('durachew', 0.6064759492874146),\n",
       " ('gnaw', 0.600791335105896),\n",
       " ('milk', 0.599940299987793),\n",
       " ('knuckle', 0.5982710123062134),\n",
       " ('souper', 0.5956498980522156),\n",
       " ('nylabones', 0.5921487212181091),\n",
       " ('marrow', 0.5889895558357239),\n",
       " ('dura', 0.5721269249916077),\n",
       " ('chewing', 0.5695868730545044),\n",
       " ('chews', 0.5648237466812134),\n",
       " ('busy', 0.5592329502105713),\n",
       " ('galileo', 0.55804443359375),\n",
       " ('antler', 0.5570104122161865),\n",
       " ('edible', 0.5416890382766724),\n",
       " ('antlers', 0.539863646030426),\n",
       " ('chewed', 0.5383621454238892)]"
      ]
     },
     "execution_count": 21,
     "metadata": {},
     "output_type": "execute_result"
    }
   ],
   "source": [
    "model.wv.most_similar('bone', topn=20)"
   ]
  },
  {
   "cell_type": "code",
   "execution_count": 56,
   "id": "4c3ddc47",
   "metadata": {},
   "outputs": [
    {
     "data": {
      "text/plain": [
       "[('bones', 0.8282856345176697),\n",
       " ('nylabone', 0.6980367302894592),\n",
       " ('nylabones', 0.6770226955413818),\n",
       " ('rawhide', 0.6670557856559753),\n",
       " ('chew', 0.6501172780990601),\n",
       " ('marrow', 0.6469276547431946),\n",
       " ('souper', 0.6309515237808228),\n",
       " ('shaped', 0.6059936285018921),\n",
       " ('chewing', 0.6043911576271057),\n",
       " ('knuckle', 0.600419282913208),\n",
       " ('wishbone', 0.5963003635406494),\n",
       " ('milk', 0.5949848890304565),\n",
       " ('galileo', 0.5861280560493469),\n",
       " ('durachew', 0.5809895992279053),\n",
       " ('busy', 0.5731273889541626),\n",
       " ('gnawing', 0.572392463684082),\n",
       " ('chews', 0.5551723837852478),\n",
       " ('femur', 0.5541238188743591),\n",
       " ('gnaw', 0.5477069020271301),\n",
       " ('chewy', 0.5463270545005798)]"
      ]
     },
     "execution_count": 56,
     "metadata": {},
     "output_type": "execute_result"
    }
   ],
   "source": [
    "model2.wv.most_similar('bone', topn=20)"
   ]
  },
  {
   "cell_type": "code",
   "execution_count": 57,
   "id": "8b3098a5",
   "metadata": {},
   "outputs": [
    {
     "data": {
      "text/plain": [
       "[('bones', 0.8282856345176697),\n",
       " ('nylabone', 0.6980367302894592),\n",
       " ('nylabones', 0.6770226955413818),\n",
       " ('rawhide', 0.6670557856559753),\n",
       " ('chew', 0.6501172780990601),\n",
       " ('marrow', 0.6469276547431946),\n",
       " ('souper', 0.6309515237808228),\n",
       " ('shaped', 0.6059936285018921),\n",
       " ('chewing', 0.6043911576271057),\n",
       " ('knuckle', 0.600419282913208),\n",
       " ('wishbone', 0.5963003635406494),\n",
       " ('milk', 0.5949848890304565),\n",
       " ('galileo', 0.5861280560493469),\n",
       " ('durachew', 0.5809895992279053),\n",
       " ('busy', 0.5731273889541626),\n",
       " ('gnawing', 0.572392463684082),\n",
       " ('chews', 0.5551723837852478),\n",
       " ('femur', 0.5541238188743591),\n",
       " ('gnaw', 0.5477069020271301),\n",
       " ('chewy', 0.5463270545005798)]"
      ]
     },
     "execution_count": 57,
     "metadata": {},
     "output_type": "execute_result"
    }
   ],
   "source": [
    "model2.wv.most_similar('bone', topn=20)"
   ]
  },
  {
   "cell_type": "code",
   "execution_count": 24,
   "id": "c787a091",
   "metadata": {},
   "outputs": [
    {
     "data": {
      "text/plain": [
       "[('bone', 0.8158198595046997),\n",
       " ('rawhide', 0.7717331647872925),\n",
       " ('rawhides', 0.6689131855964661),\n",
       " ('antlers', 0.6632908582687378),\n",
       " ('marrow', 0.6568017601966858),\n",
       " ('milk', 0.6416939496994019),\n",
       " ('nylabone', 0.6264498829841614),\n",
       " ('nylabones', 0.6230976581573486),\n",
       " ('knuckle', 0.619225263595581),\n",
       " ('chews', 0.6005524396896362),\n",
       " ('chew', 0.5933453440666199),\n",
       " ('treats', 0.5869534611701965),\n",
       " ('biscuits', 0.5758283734321594),\n",
       " ('gnaw', 0.5756014585494995),\n",
       " ('elk', 0.5742558240890503),\n",
       " ('hooves', 0.5619530081748962),\n",
       " ('antler', 0.5590327978134155),\n",
       " ('chewy', 0.5590052604675293),\n",
       " ('splinter', 0.5532580018043518),\n",
       " ('snacks', 0.5483910441398621)]"
      ]
     },
     "execution_count": 24,
     "metadata": {},
     "output_type": "execute_result"
    }
   ],
   "source": [
    "model.wv.most_similar('bones', topn=20)"
   ]
  },
  {
   "cell_type": "code",
   "execution_count": 54,
   "id": "f0729705",
   "metadata": {},
   "outputs": [
    {
     "data": {
      "text/plain": [
       "[('bone', 0.8282856345176697),\n",
       " ('rawhide', 0.7578145861625671),\n",
       " ('marrow', 0.693539559841156),\n",
       " ('nylabones', 0.6879273056983948),\n",
       " ('chew', 0.650944173336029),\n",
       " ('milk', 0.6309886574745178),\n",
       " ('nylabone', 0.6298325657844543),\n",
       " ('rawhides', 0.6295621991157532),\n",
       " ('chews', 0.6195599436759949),\n",
       " ('souper', 0.6031301617622375),\n",
       " ('knuckle', 0.5993147492408752),\n",
       " ('meaty', 0.5978771448135376),\n",
       " ('chewy', 0.5917548537254333),\n",
       " ('edible', 0.5915653109550476),\n",
       " ('snacks', 0.5906257033348083),\n",
       " ('cookies', 0.5847374200820923),\n",
       " ('chewing', 0.5809184908866882),\n",
       " ('antlers', 0.5806839466094971),\n",
       " ('splinter', 0.5800434350967407),\n",
       " ('biscuits', 0.579098105430603)]"
      ]
     },
     "execution_count": 54,
     "metadata": {},
     "output_type": "execute_result"
    }
   ],
   "source": [
    "model2.wv.most_similar('bones', topn=20)"
   ]
  },
  {
   "cell_type": "code",
   "execution_count": 55,
   "id": "aef8b214",
   "metadata": {},
   "outputs": [
    {
     "data": {
      "text/plain": [
       "[('bone', 0.6348416805267334),\n",
       " ('chew', 0.5350574254989624),\n",
       " ('chews', 0.5217781066894531),\n",
       " ('rawhide', 0.5205658674240112),\n",
       " ('chewer', 0.47839415073394775),\n",
       " ('milk', 0.474653422832489),\n",
       " ('teeth', 0.47370025515556335),\n",
       " ('nylabone', 0.4658149182796478),\n",
       " ('smokehouse', 0.4655802845954895),\n",
       " ('beef', 0.4628762900829315),\n",
       " ('rawhides', 0.4541550278663635),\n",
       " ('tartar', 0.4514092206954956),\n",
       " ('antlers', 0.44749969244003296),\n",
       " ('loves', 0.4468533992767334),\n",
       " ('nylabones', 0.4423547089099884),\n",
       " ('toys', 0.4418380558490753),\n",
       " ('dental', 0.43822672963142395),\n",
       " ('chewing', 0.4370817244052887),\n",
       " ('chunk', 0.425809770822525),\n",
       " ('chewers', 0.42491069436073303)]"
      ]
     },
     "execution_count": 55,
     "metadata": {},
     "output_type": "execute_result"
    }
   ],
   "source": [
    "model3.wv.most_similar('bones', topn=20)"
   ]
  },
  {
   "cell_type": "markdown",
   "id": "6d97c736",
   "metadata": {},
   "source": [
    "2. different type of bones"
   ]
  },
  {
   "cell_type": "code",
   "execution_count": 23,
   "id": "159198e1",
   "metadata": {},
   "outputs": [
    {
     "data": {
      "text/plain": [
       "[('rawhides', 0.7886044383049011),\n",
       " ('bones', 0.7717331051826477),\n",
       " ('bone', 0.6634681820869446),\n",
       " ('chews', 0.6378365159034729),\n",
       " ('sticks', 0.635415256023407),\n",
       " ('antlers', 0.6214556097984314),\n",
       " ('bully', 0.6136617660522461),\n",
       " ('treats', 0.5922307968139648),\n",
       " ('jerky', 0.5904959440231323),\n",
       " ('greenies', 0.5819306969642639),\n",
       " ('snacks', 0.5739991068840027),\n",
       " ('marrow', 0.5733737349510193),\n",
       " ('chew', 0.5717118978500366),\n",
       " ('antler', 0.5701606273651123),\n",
       " ('nylabones', 0.5691899657249451),\n",
       " ('chewy', 0.5688908696174622),\n",
       " ('stix', 0.5676776170730591),\n",
       " ('beefhide', 0.5672510266304016),\n",
       " ('flatsticks', 0.5497121214866638),\n",
       " ('funbites', 0.544281542301178)]"
      ]
     },
     "execution_count": 23,
     "metadata": {},
     "output_type": "execute_result"
    }
   ],
   "source": [
    "model.wv.most_similar('rawhide', topn=20)"
   ]
  },
  {
   "cell_type": "code",
   "execution_count": 24,
   "id": "02e1b4f8",
   "metadata": {},
   "outputs": [
    {
     "data": {
      "text/plain": [
       "[('nylabone', 0.7075127959251404),\n",
       " ('durachew', 0.6781080961227417),\n",
       " ('nylabones', 0.6386124491691589),\n",
       " ('bone', 0.5721269845962524),\n",
       " ('chew', 0.565963089466095),\n",
       " ('orka', 0.562846302986145),\n",
       " ('souper', 0.5617785453796387),\n",
       " ('wishbone', 0.5590270161628723),\n",
       " ('textured', 0.5404595732688904),\n",
       " ('wishbones', 0.5334263443946838),\n",
       " ('bones', 0.5050172805786133),\n",
       " ('dinosaur', 0.5006127953529358),\n",
       " ('chewing', 0.48749807476997375),\n",
       " ('chewers', 0.4837704300880432),\n",
       " ('shapes', 0.481223464012146),\n",
       " ('dinosaurs', 0.4758310317993164),\n",
       " ('durachews', 0.4745633006095886),\n",
       " ('bacon', 0.47262391448020935),\n",
       " ('antlers', 0.46065840125083923),\n",
       " ('gnawing', 0.46062755584716797)]"
      ]
     },
     "execution_count": 24,
     "metadata": {},
     "output_type": "execute_result"
    }
   ],
   "source": [
    "model.wv.most_similar('dura', topn=20)"
   ]
  },
  {
   "cell_type": "code",
   "execution_count": 25,
   "id": "6865be97",
   "metadata": {},
   "outputs": [
    {
     "data": {
      "text/plain": [
       "[('bones', 0.656801700592041),\n",
       " ('antler', 0.6185457706451416),\n",
       " ('bone', 0.5889895558357239),\n",
       " ('elk', 0.5858114957809448),\n",
       " ('antlers', 0.5783888697624207),\n",
       " ('rawhide', 0.5733736753463745),\n",
       " ('gnaw', 0.5347817540168762),\n",
       " ('chew', 0.5166423916816711),\n",
       " ('rawhides', 0.49750351905822754),\n",
       " ('meat', 0.4922967553138733),\n",
       " ('goodie', 0.4897925853729248),\n",
       " ('nylabones', 0.4878978729248047),\n",
       " ('edible', 0.4831955134868622),\n",
       " ('butcher', 0.47808837890625),\n",
       " ('nyla', 0.4765920639038086),\n",
       " ('knuckle', 0.4718930721282959),\n",
       " ('bacon', 0.4697265028953552),\n",
       " ('stix', 0.4686254560947418),\n",
       " ('nylabone', 0.4653785526752472),\n",
       " ('snacks', 0.46341100335121155)]"
      ]
     },
     "execution_count": 25,
     "metadata": {},
     "output_type": "execute_result"
    }
   ],
   "source": [
    "model.wv.most_similar('marrow', topn=20)"
   ]
  },
  {
   "cell_type": "code",
   "execution_count": 26,
   "id": "c95bd7bd",
   "metadata": {},
   "outputs": [
    {
     "data": {
      "text/plain": [
       "[('antlers', 0.8128750324249268),\n",
       " ('elk', 0.779369056224823),\n",
       " ('marrow', 0.6185458302497864),\n",
       " ('nylabones', 0.5882363319396973),\n",
       " ('rawhide', 0.5701606869697571),\n",
       " ('bully', 0.5638939738273621),\n",
       " ('bones', 0.5590327978134155),\n",
       " ('bone', 0.5570104718208313),\n",
       " ('nylabone', 0.5490978956222534),\n",
       " ('hooves', 0.5469686985015869),\n",
       " ('deer', 0.5376046299934387),\n",
       " ('chew', 0.5354067087173462),\n",
       " ('gnaw', 0.5287650227546692),\n",
       " ('nub', 0.5276226997375488),\n",
       " ('wishbone', 0.5188196897506714),\n",
       " ('sticks', 0.518443763256073),\n",
       " ('gnawed', 0.517637312412262),\n",
       " ('rawhides', 0.5163567066192627),\n",
       " ('gnawing', 0.5117883682250977),\n",
       " ('chewer', 0.5037890672683716)]"
      ]
     },
     "execution_count": 26,
     "metadata": {},
     "output_type": "execute_result"
    }
   ],
   "source": [
    "model.wv.most_similar('antler', topn=20)"
   ]
  },
  {
   "cell_type": "code",
   "execution_count": 27,
   "id": "84e082d4",
   "metadata": {},
   "outputs": [
    {
     "data": {
      "text/plain": [
       "[('antlers', 0.8406640291213989),\n",
       " ('antler', 0.7793689966201782),\n",
       " ('marrow', 0.5858115553855896),\n",
       " ('bones', 0.5742558240890503),\n",
       " ('deer', 0.5417935252189636),\n",
       " ('nylabones', 0.5336681008338928),\n",
       " ('rawhide', 0.5336082577705383),\n",
       " ('bully', 0.5219261646270752),\n",
       " ('bone', 0.5058538913726807),\n",
       " ('dinosaurs', 0.4900539517402649),\n",
       " ('durachews', 0.48953312635421753),\n",
       " ('nylabone', 0.4853033721446991),\n",
       " ('gnawing', 0.48405584692955017),\n",
       " ('hooves', 0.4835357666015625),\n",
       " ('moose', 0.4826973080635071),\n",
       " ('knuckle', 0.48156508803367615),\n",
       " ('rawhides', 0.4806766211986542),\n",
       " ('chew', 0.47754883766174316),\n",
       " ('sticks', 0.4757577180862427),\n",
       " ('gnaw', 0.459151953458786)]"
      ]
     },
     "execution_count": 27,
     "metadata": {},
     "output_type": "execute_result"
    }
   ],
   "source": [
    "model.wv.most_similar('elk', topn=20)"
   ]
  },
  {
   "cell_type": "code",
   "execution_count": 28,
   "id": "183480bc",
   "metadata": {},
   "outputs": [
    {
     "data": {
      "text/plain": [
       "[('bones', 0.619225263595581),\n",
       " ('bone', 0.5982710719108582),\n",
       " ('cow', 0.553486704826355),\n",
       " ('femur', 0.5377819538116455),\n",
       " ('hooves', 0.5248903036117554),\n",
       " ('antlers', 0.5215527415275574),\n",
       " ('tendon', 0.5178823471069336),\n",
       " ('rawhide', 0.4931419789791107),\n",
       " ('antler', 0.4864480495452881),\n",
       " ('nylabones', 0.48427337408065796),\n",
       " ('spirals', 0.48286759853363037),\n",
       " ('nub', 0.4817139208316803),\n",
       " ('elk', 0.48156502842903137),\n",
       " ('gnaw', 0.47955062985420227),\n",
       " ('gnaws', 0.47819364070892334),\n",
       " ('nylabone', 0.47427237033843994),\n",
       " ('nyla', 0.472095787525177),\n",
       " ('marrow', 0.4718931019306183),\n",
       " ('hoof', 0.4622935950756073),\n",
       " ('dinosaurs', 0.45999622344970703)]"
      ]
     },
     "execution_count": 28,
     "metadata": {},
     "output_type": "execute_result"
    }
   ],
   "source": [
    "model.wv.most_similar('knuckle', topn=20)"
   ]
  },
  {
   "cell_type": "code",
   "execution_count": 29,
   "id": "0a2cabca",
   "metadata": {},
   "outputs": [
    {
     "data": {
      "text/plain": [
       "[('antlers', 0.5972150564193726),\n",
       " ('rawhides', 0.5822674036026001),\n",
       " ('tendons', 0.563358724117279),\n",
       " ('bones', 0.5619530081748962),\n",
       " ('sticks', 0.547091543674469),\n",
       " ('antler', 0.5469687581062317),\n",
       " ('cow', 0.5403538346290588),\n",
       " ('bully', 0.5379691123962402),\n",
       " ('knuckle', 0.5248902440071106),\n",
       " ('bone', 0.49987560510635376),\n",
       " ('elk', 0.4835357367992401),\n",
       " ('tendon', 0.47914648056030273),\n",
       " ('rawhide', 0.47018691897392273),\n",
       " ('lung', 0.46399006247520447),\n",
       " ('flesh', 0.46269235014915466),\n",
       " ('pizzle', 0.46245571970939636),\n",
       " ('splinter', 0.46113306283950806),\n",
       " ('nylabones', 0.45647576451301575),\n",
       " ('marrow', 0.45439761877059937),\n",
       " ('ham', 0.45007336139678955)]"
      ]
     },
     "execution_count": 29,
     "metadata": {},
     "output_type": "execute_result"
    }
   ],
   "source": [
    "model.wv.most_similar('hooves', topn=20)"
   ]
  },
  {
   "cell_type": "code",
   "execution_count": 30,
   "id": "f1171bf5",
   "metadata": {},
   "outputs": [
    {
     "data": {
      "text/plain": [
       "[('shatter', 0.5776191353797913),\n",
       " ('bones', 0.5532580018043518),\n",
       " ('sharp', 0.5190754532814026),\n",
       " ('chunks', 0.5116530060768127),\n",
       " ('rawhides', 0.501939058303833),\n",
       " ('swallow', 0.48461759090423584),\n",
       " ('shards', 0.47516876459121704),\n",
       " ('rawhide', 0.47378090023994446),\n",
       " ('monitored', 0.47036778926849365),\n",
       " ('choked', 0.46953558921813965),\n",
       " ('bone', 0.46356892585754395),\n",
       " ('hooves', 0.46113312244415283),\n",
       " ('choke', 0.45764899253845215),\n",
       " ('brittle', 0.4556022584438324),\n",
       " ('flesh', 0.45474955439567566),\n",
       " ('swallows', 0.4541385769844055),\n",
       " ('marrow', 0.4527345299720764),\n",
       " ('grinding', 0.4506504535675049),\n",
       " ('puncture', 0.4465760886669159),\n",
       " ('chew', 0.4406884014606476)]"
      ]
     },
     "execution_count": 30,
     "metadata": {},
     "output_type": "execute_result"
    }
   ],
   "source": [
    "model.wv.most_similar('splinter', topn=20)"
   ]
  },
  {
   "cell_type": "code",
   "execution_count": 31,
   "id": "76747105",
   "metadata": {},
   "outputs": [
    {
     "data": {
      "text/plain": [
       "[('damage', 0.5361852049827576),\n",
       " ('marks', 0.5211513638496399),\n",
       " ('walls', 0.5188998579978943),\n",
       " ('rip', 0.5131747722625732),\n",
       " ('punctured', 0.5045722723007202),\n",
       " ('destroy', 0.49282801151275635),\n",
       " ('pierced', 0.4909978210926056),\n",
       " ('gnaw', 0.4865599572658539),\n",
       " ('bounce', 0.4756905138492584),\n",
       " ('rips', 0.46410757303237915),\n",
       " ('bounces', 0.45669883489608765),\n",
       " ('tough', 0.4564034938812256),\n",
       " ('goughnut', 0.4547934830188751),\n",
       " ('flexible', 0.4491754174232483),\n",
       " ('managed', 0.4487006962299347),\n",
       " ('ball', 0.4485085904598236),\n",
       " ('splinter', 0.4465761184692383),\n",
       " ('weakness', 0.44345754384994507),\n",
       " ('rubber', 0.44303786754608154),\n",
       " ('toenails', 0.4427680969238281)]"
      ]
     },
     "execution_count": 31,
     "metadata": {},
     "output_type": "execute_result"
    }
   ],
   "source": [
    "model.wv.most_similar('puncture', topn=20)"
   ]
  }
 ],
 "metadata": {
  "kernelspec": {
   "display_name": "Python 3 (ipykernel)",
   "language": "python",
   "name": "python3"
  },
  "language_info": {
   "codemirror_mode": {
    "name": "ipython",
    "version": 3
   },
   "file_extension": ".py",
   "mimetype": "text/x-python",
   "name": "python",
   "nbconvert_exporter": "python",
   "pygments_lexer": "ipython3",
   "version": "3.9.7"
  },
  "toc": {
   "base_numbering": 1,
   "nav_menu": {},
   "number_sections": true,
   "sideBar": true,
   "skip_h1_title": false,
   "title_cell": "Table of Contents",
   "title_sidebar": "Contents",
   "toc_cell": false,
   "toc_position": {},
   "toc_section_display": true,
   "toc_window_display": false
  }
 },
 "nbformat": 4,
 "nbformat_minor": 5
}
